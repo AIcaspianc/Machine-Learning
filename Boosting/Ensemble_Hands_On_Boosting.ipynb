{
  "cells": [
    {
      "cell_type": "markdown",
      "metadata": {
        "id": "RB92HxSfxLPj"
      },
      "source": [
        "# Ensemble Hands On - Boosting"
      ]
    },
    {
      "cell_type": "markdown",
      "metadata": {
        "id": "fy_ZAgmzxLPk"
      },
      "source": [
        "We are going to build a model that predicts if someone who seeks a loan might be a defaulter or a non-defaulter. We have several independent variables like, checking account balance, credit history, purpose, loan amount etc."
      ]
    },
    {
      "cell_type": "markdown",
      "metadata": {
        "id": "SFyI3CAtxLPk"
      },
      "source": [
        "## Import Libraries"
      ]
    },
    {
      "cell_type": "code",
      "execution_count": null,
      "metadata": {
        "id": "8NjHSaCTxLPl"
      },
      "outputs": [],
      "source": [
        "import pandas as pd\n",
        "import numpy as np\n",
        "from sklearn import metrics\n",
        "import matplotlib.pyplot as plt\n",
        "%matplotlib inline\n",
        "import warnings\n",
        "warnings.filterwarnings('ignore')\n",
        "import seaborn as sns\n",
        "from sklearn.model_selection import train_test_split\n",
        "from sklearn.model_selection import GridSearchCV\n",
        "from sklearn import metrics\n",
        "from sklearn.tree import DecisionTreeClassifier\n",
        "from sklearn.ensemble import AdaBoostClassifier, GradientBoostingClassifier\n",
        "#To install xgboost library use - !pip install xgboost\n",
        "from xgboost import XGBClassifier"
      ]
    },
    {
      "cell_type": "markdown",
      "metadata": {
        "id": "k4OVwsPRPMWi"
      },
      "source": [
        "**We will use the same `credit data` used in decision tree hands-on lecture.**"
      ]
    },
    {
      "cell_type": "code",
      "execution_count": null,
      "metadata": {
        "id": "vgm9EEt5xLPo",
        "outputId": "3120b7c3-2035-4c20-9107-5db2ac686ca1",
        "scrolled": true
      },
      "outputs": [
        {
          "data": {
            "text/html": [
              "<div>\n",
              "<style scoped>\n",
              "    .dataframe tbody tr th:only-of-type {\n",
              "        vertical-align: middle;\n",
              "    }\n",
              "\n",
              "    .dataframe tbody tr th {\n",
              "        vertical-align: top;\n",
              "    }\n",
              "\n",
              "    .dataframe thead th {\n",
              "        text-align: right;\n",
              "    }\n",
              "</style>\n",
              "<table border=\"1\" class=\"dataframe\">\n",
              "  <thead>\n",
              "    <tr style=\"text-align: right;\">\n",
              "      <th></th>\n",
              "      <th>checking_balance</th>\n",
              "      <th>months_loan_duration</th>\n",
              "      <th>credit_history</th>\n",
              "      <th>purpose</th>\n",
              "      <th>amount</th>\n",
              "      <th>savings_balance</th>\n",
              "      <th>employment_duration</th>\n",
              "      <th>percent_of_income</th>\n",
              "      <th>years_at_residence</th>\n",
              "      <th>age</th>\n",
              "      <th>other_credit</th>\n",
              "      <th>housing</th>\n",
              "      <th>existing_loans_count</th>\n",
              "      <th>job</th>\n",
              "      <th>dependents</th>\n",
              "      <th>phone</th>\n",
              "      <th>default</th>\n",
              "    </tr>\n",
              "  </thead>\n",
              "  <tbody>\n",
              "    <tr>\n",
              "      <th>0</th>\n",
              "      <td>&lt; 0 DM</td>\n",
              "      <td>6</td>\n",
              "      <td>critical</td>\n",
              "      <td>furniture/appliances</td>\n",
              "      <td>1169</td>\n",
              "      <td>unknown</td>\n",
              "      <td>&gt; 7 years</td>\n",
              "      <td>4</td>\n",
              "      <td>4</td>\n",
              "      <td>67</td>\n",
              "      <td>none</td>\n",
              "      <td>own</td>\n",
              "      <td>2</td>\n",
              "      <td>skilled</td>\n",
              "      <td>1</td>\n",
              "      <td>yes</td>\n",
              "      <td>no</td>\n",
              "    </tr>\n",
              "    <tr>\n",
              "      <th>1</th>\n",
              "      <td>1 - 200 DM</td>\n",
              "      <td>48</td>\n",
              "      <td>good</td>\n",
              "      <td>furniture/appliances</td>\n",
              "      <td>5951</td>\n",
              "      <td>&lt; 100 DM</td>\n",
              "      <td>1 - 4 years</td>\n",
              "      <td>2</td>\n",
              "      <td>2</td>\n",
              "      <td>22</td>\n",
              "      <td>none</td>\n",
              "      <td>own</td>\n",
              "      <td>1</td>\n",
              "      <td>skilled</td>\n",
              "      <td>1</td>\n",
              "      <td>no</td>\n",
              "      <td>yes</td>\n",
              "    </tr>\n",
              "    <tr>\n",
              "      <th>2</th>\n",
              "      <td>unknown</td>\n",
              "      <td>12</td>\n",
              "      <td>critical</td>\n",
              "      <td>education</td>\n",
              "      <td>2096</td>\n",
              "      <td>&lt; 100 DM</td>\n",
              "      <td>4 - 7 years</td>\n",
              "      <td>2</td>\n",
              "      <td>3</td>\n",
              "      <td>49</td>\n",
              "      <td>none</td>\n",
              "      <td>own</td>\n",
              "      <td>1</td>\n",
              "      <td>unskilled</td>\n",
              "      <td>2</td>\n",
              "      <td>no</td>\n",
              "      <td>no</td>\n",
              "    </tr>\n",
              "    <tr>\n",
              "      <th>3</th>\n",
              "      <td>&lt; 0 DM</td>\n",
              "      <td>42</td>\n",
              "      <td>good</td>\n",
              "      <td>furniture/appliances</td>\n",
              "      <td>7882</td>\n",
              "      <td>&lt; 100 DM</td>\n",
              "      <td>4 - 7 years</td>\n",
              "      <td>2</td>\n",
              "      <td>4</td>\n",
              "      <td>45</td>\n",
              "      <td>none</td>\n",
              "      <td>other</td>\n",
              "      <td>1</td>\n",
              "      <td>skilled</td>\n",
              "      <td>2</td>\n",
              "      <td>no</td>\n",
              "      <td>no</td>\n",
              "    </tr>\n",
              "    <tr>\n",
              "      <th>4</th>\n",
              "      <td>&lt; 0 DM</td>\n",
              "      <td>24</td>\n",
              "      <td>poor</td>\n",
              "      <td>car</td>\n",
              "      <td>4870</td>\n",
              "      <td>&lt; 100 DM</td>\n",
              "      <td>1 - 4 years</td>\n",
              "      <td>3</td>\n",
              "      <td>4</td>\n",
              "      <td>53</td>\n",
              "      <td>none</td>\n",
              "      <td>other</td>\n",
              "      <td>2</td>\n",
              "      <td>skilled</td>\n",
              "      <td>2</td>\n",
              "      <td>no</td>\n",
              "      <td>yes</td>\n",
              "    </tr>\n",
              "    <tr>\n",
              "      <th>5</th>\n",
              "      <td>unknown</td>\n",
              "      <td>36</td>\n",
              "      <td>good</td>\n",
              "      <td>education</td>\n",
              "      <td>9055</td>\n",
              "      <td>unknown</td>\n",
              "      <td>1 - 4 years</td>\n",
              "      <td>2</td>\n",
              "      <td>4</td>\n",
              "      <td>35</td>\n",
              "      <td>none</td>\n",
              "      <td>other</td>\n",
              "      <td>1</td>\n",
              "      <td>unskilled</td>\n",
              "      <td>2</td>\n",
              "      <td>yes</td>\n",
              "      <td>no</td>\n",
              "    </tr>\n",
              "    <tr>\n",
              "      <th>6</th>\n",
              "      <td>unknown</td>\n",
              "      <td>24</td>\n",
              "      <td>good</td>\n",
              "      <td>furniture/appliances</td>\n",
              "      <td>2835</td>\n",
              "      <td>500 - 1000 DM</td>\n",
              "      <td>&gt; 7 years</td>\n",
              "      <td>3</td>\n",
              "      <td>4</td>\n",
              "      <td>53</td>\n",
              "      <td>none</td>\n",
              "      <td>own</td>\n",
              "      <td>1</td>\n",
              "      <td>skilled</td>\n",
              "      <td>1</td>\n",
              "      <td>no</td>\n",
              "      <td>no</td>\n",
              "    </tr>\n",
              "    <tr>\n",
              "      <th>7</th>\n",
              "      <td>1 - 200 DM</td>\n",
              "      <td>36</td>\n",
              "      <td>good</td>\n",
              "      <td>car</td>\n",
              "      <td>6948</td>\n",
              "      <td>&lt; 100 DM</td>\n",
              "      <td>1 - 4 years</td>\n",
              "      <td>2</td>\n",
              "      <td>2</td>\n",
              "      <td>35</td>\n",
              "      <td>none</td>\n",
              "      <td>rent</td>\n",
              "      <td>1</td>\n",
              "      <td>management</td>\n",
              "      <td>1</td>\n",
              "      <td>yes</td>\n",
              "      <td>no</td>\n",
              "    </tr>\n",
              "    <tr>\n",
              "      <th>8</th>\n",
              "      <td>unknown</td>\n",
              "      <td>12</td>\n",
              "      <td>good</td>\n",
              "      <td>furniture/appliances</td>\n",
              "      <td>3059</td>\n",
              "      <td>&gt; 1000 DM</td>\n",
              "      <td>4 - 7 years</td>\n",
              "      <td>2</td>\n",
              "      <td>4</td>\n",
              "      <td>61</td>\n",
              "      <td>none</td>\n",
              "      <td>own</td>\n",
              "      <td>1</td>\n",
              "      <td>unskilled</td>\n",
              "      <td>1</td>\n",
              "      <td>no</td>\n",
              "      <td>no</td>\n",
              "    </tr>\n",
              "    <tr>\n",
              "      <th>9</th>\n",
              "      <td>1 - 200 DM</td>\n",
              "      <td>30</td>\n",
              "      <td>critical</td>\n",
              "      <td>car</td>\n",
              "      <td>5234</td>\n",
              "      <td>&lt; 100 DM</td>\n",
              "      <td>unemployed</td>\n",
              "      <td>4</td>\n",
              "      <td>2</td>\n",
              "      <td>28</td>\n",
              "      <td>none</td>\n",
              "      <td>own</td>\n",
              "      <td>2</td>\n",
              "      <td>management</td>\n",
              "      <td>1</td>\n",
              "      <td>no</td>\n",
              "      <td>yes</td>\n",
              "    </tr>\n",
              "  </tbody>\n",
              "</table>\n",
              "</div>"
            ],
            "text/plain": [
              "  checking_balance  months_loan_duration credit_history               purpose  \\\n",
              "0           < 0 DM                     6       critical  furniture/appliances   \n",
              "1       1 - 200 DM                    48           good  furniture/appliances   \n",
              "2          unknown                    12       critical             education   \n",
              "3           < 0 DM                    42           good  furniture/appliances   \n",
              "4           < 0 DM                    24           poor                   car   \n",
              "5          unknown                    36           good             education   \n",
              "6          unknown                    24           good  furniture/appliances   \n",
              "7       1 - 200 DM                    36           good                   car   \n",
              "8          unknown                    12           good  furniture/appliances   \n",
              "9       1 - 200 DM                    30       critical                   car   \n",
              "\n",
              "   amount savings_balance employment_duration  percent_of_income  \\\n",
              "0    1169         unknown           > 7 years                  4   \n",
              "1    5951        < 100 DM         1 - 4 years                  2   \n",
              "2    2096        < 100 DM         4 - 7 years                  2   \n",
              "3    7882        < 100 DM         4 - 7 years                  2   \n",
              "4    4870        < 100 DM         1 - 4 years                  3   \n",
              "5    9055         unknown         1 - 4 years                  2   \n",
              "6    2835   500 - 1000 DM           > 7 years                  3   \n",
              "7    6948        < 100 DM         1 - 4 years                  2   \n",
              "8    3059       > 1000 DM         4 - 7 years                  2   \n",
              "9    5234        < 100 DM          unemployed                  4   \n",
              "\n",
              "   years_at_residence  age other_credit housing  existing_loans_count  \\\n",
              "0                   4   67         none     own                     2   \n",
              "1                   2   22         none     own                     1   \n",
              "2                   3   49         none     own                     1   \n",
              "3                   4   45         none   other                     1   \n",
              "4                   4   53         none   other                     2   \n",
              "5                   4   35         none   other                     1   \n",
              "6                   4   53         none     own                     1   \n",
              "7                   2   35         none    rent                     1   \n",
              "8                   4   61         none     own                     1   \n",
              "9                   2   28         none     own                     2   \n",
              "\n",
              "          job  dependents phone default  \n",
              "0     skilled           1   yes      no  \n",
              "1     skilled           1    no     yes  \n",
              "2   unskilled           2    no      no  \n",
              "3     skilled           2    no      no  \n",
              "4     skilled           2    no     yes  \n",
              "5   unskilled           2   yes      no  \n",
              "6     skilled           1    no      no  \n",
              "7  management           1   yes      no  \n",
              "8   unskilled           1    no      no  \n",
              "9  management           1    no     yes  "
            ]
          },
          "execution_count": 2,
          "metadata": {},
          "output_type": "execute_result"
        }
      ],
      "source": [
        "creditData = pd.read_csv(\"credit.csv\")\n",
        "\n",
        "#creditData = pd.read_csv(\"credit.csv\")\n",
        "creditData.head(10) #several missing values!"
      ]
    },
    {
      "cell_type": "code",
      "execution_count": null,
      "metadata": {
        "id": "4t1OBSqzxLPr",
        "outputId": "c5db5b2b-a257-4d03-b2cf-ef59e8bed4a2"
      },
      "outputs": [
        {
          "data": {
            "text/plain": [
              "(1000, 17)"
            ]
          },
          "execution_count": 3,
          "metadata": {},
          "output_type": "execute_result"
        }
      ],
      "source": [
        "creditData.shape"
      ]
    },
    {
      "cell_type": "code",
      "execution_count": null,
      "metadata": {
        "id": "MtvP29DIPMWj",
        "outputId": "759ca994-ba9a-439c-cc37-df8f35a45ac3"
      },
      "outputs": [
        {
          "data": {
            "text/plain": [
              "no     700\n",
              "yes    300\n",
              "Name: default, dtype: int64"
            ]
          },
          "execution_count": 4,
          "metadata": {},
          "output_type": "execute_result"
        }
      ],
      "source": [
        "creditData['default'].value_counts()"
      ]
    },
    {
      "cell_type": "code",
      "execution_count": null,
      "metadata": {
        "id": "32heA0VFxLPt",
        "outputId": "f1119e0b-fa26-43ea-ba6c-f6d77ae2354c"
      },
      "outputs": [
        {
          "data": {
            "text/html": [
              "<div>\n",
              "<style scoped>\n",
              "    .dataframe tbody tr th:only-of-type {\n",
              "        vertical-align: middle;\n",
              "    }\n",
              "\n",
              "    .dataframe tbody tr th {\n",
              "        vertical-align: top;\n",
              "    }\n",
              "\n",
              "    .dataframe thead th {\n",
              "        text-align: right;\n",
              "    }\n",
              "</style>\n",
              "<table border=\"1\" class=\"dataframe\">\n",
              "  <thead>\n",
              "    <tr style=\"text-align: right;\">\n",
              "      <th></th>\n",
              "      <th>months_loan_duration</th>\n",
              "      <th>amount</th>\n",
              "      <th>percent_of_income</th>\n",
              "      <th>years_at_residence</th>\n",
              "      <th>age</th>\n",
              "      <th>existing_loans_count</th>\n",
              "      <th>dependents</th>\n",
              "    </tr>\n",
              "  </thead>\n",
              "  <tbody>\n",
              "    <tr>\n",
              "      <th>count</th>\n",
              "      <td>1000.000000</td>\n",
              "      <td>1000.000000</td>\n",
              "      <td>1000.000000</td>\n",
              "      <td>1000.000000</td>\n",
              "      <td>1000.000000</td>\n",
              "      <td>1000.000000</td>\n",
              "      <td>1000.000000</td>\n",
              "    </tr>\n",
              "    <tr>\n",
              "      <th>mean</th>\n",
              "      <td>20.903000</td>\n",
              "      <td>3271.258000</td>\n",
              "      <td>2.973000</td>\n",
              "      <td>2.845000</td>\n",
              "      <td>35.546000</td>\n",
              "      <td>1.407000</td>\n",
              "      <td>1.155000</td>\n",
              "    </tr>\n",
              "    <tr>\n",
              "      <th>std</th>\n",
              "      <td>12.058814</td>\n",
              "      <td>2822.736876</td>\n",
              "      <td>1.118715</td>\n",
              "      <td>1.103718</td>\n",
              "      <td>11.375469</td>\n",
              "      <td>0.577654</td>\n",
              "      <td>0.362086</td>\n",
              "    </tr>\n",
              "    <tr>\n",
              "      <th>min</th>\n",
              "      <td>4.000000</td>\n",
              "      <td>250.000000</td>\n",
              "      <td>1.000000</td>\n",
              "      <td>1.000000</td>\n",
              "      <td>19.000000</td>\n",
              "      <td>1.000000</td>\n",
              "      <td>1.000000</td>\n",
              "    </tr>\n",
              "    <tr>\n",
              "      <th>25%</th>\n",
              "      <td>12.000000</td>\n",
              "      <td>1365.500000</td>\n",
              "      <td>2.000000</td>\n",
              "      <td>2.000000</td>\n",
              "      <td>27.000000</td>\n",
              "      <td>1.000000</td>\n",
              "      <td>1.000000</td>\n",
              "    </tr>\n",
              "    <tr>\n",
              "      <th>50%</th>\n",
              "      <td>18.000000</td>\n",
              "      <td>2319.500000</td>\n",
              "      <td>3.000000</td>\n",
              "      <td>3.000000</td>\n",
              "      <td>33.000000</td>\n",
              "      <td>1.000000</td>\n",
              "      <td>1.000000</td>\n",
              "    </tr>\n",
              "    <tr>\n",
              "      <th>75%</th>\n",
              "      <td>24.000000</td>\n",
              "      <td>3972.250000</td>\n",
              "      <td>4.000000</td>\n",
              "      <td>4.000000</td>\n",
              "      <td>42.000000</td>\n",
              "      <td>2.000000</td>\n",
              "      <td>1.000000</td>\n",
              "    </tr>\n",
              "    <tr>\n",
              "      <th>max</th>\n",
              "      <td>72.000000</td>\n",
              "      <td>18424.000000</td>\n",
              "      <td>4.000000</td>\n",
              "      <td>4.000000</td>\n",
              "      <td>75.000000</td>\n",
              "      <td>4.000000</td>\n",
              "      <td>2.000000</td>\n",
              "    </tr>\n",
              "  </tbody>\n",
              "</table>\n",
              "</div>"
            ],
            "text/plain": [
              "       months_loan_duration        amount  percent_of_income  \\\n",
              "count           1000.000000   1000.000000        1000.000000   \n",
              "mean              20.903000   3271.258000           2.973000   \n",
              "std               12.058814   2822.736876           1.118715   \n",
              "min                4.000000    250.000000           1.000000   \n",
              "25%               12.000000   1365.500000           2.000000   \n",
              "50%               18.000000   2319.500000           3.000000   \n",
              "75%               24.000000   3972.250000           4.000000   \n",
              "max               72.000000  18424.000000           4.000000   \n",
              "\n",
              "       years_at_residence          age  existing_loans_count   dependents  \n",
              "count         1000.000000  1000.000000           1000.000000  1000.000000  \n",
              "mean             2.845000    35.546000              1.407000     1.155000  \n",
              "std              1.103718    11.375469              0.577654     0.362086  \n",
              "min              1.000000    19.000000              1.000000     1.000000  \n",
              "25%              2.000000    27.000000              1.000000     1.000000  \n",
              "50%              3.000000    33.000000              1.000000     1.000000  \n",
              "75%              4.000000    42.000000              2.000000     1.000000  \n",
              "max              4.000000    75.000000              4.000000     2.000000  "
            ]
          },
          "execution_count": 5,
          "metadata": {},
          "output_type": "execute_result"
        }
      ],
      "source": [
        "creditData.describe()"
      ]
    },
    {
      "cell_type": "code",
      "execution_count": null,
      "metadata": {
        "id": "uv_-CH_JxLPx",
        "outputId": "36a727e2-731c-4dd1-cb3f-53192e55bd1f"
      },
      "outputs": [
        {
          "name": "stdout",
          "output_type": "stream",
          "text": [
            "<class 'pandas.core.frame.DataFrame'>\n",
            "RangeIndex: 1000 entries, 0 to 999\n",
            "Data columns (total 17 columns):\n",
            " #   Column                Non-Null Count  Dtype \n",
            "---  ------                --------------  ----- \n",
            " 0   checking_balance      1000 non-null   object\n",
            " 1   months_loan_duration  1000 non-null   int64 \n",
            " 2   credit_history        1000 non-null   object\n",
            " 3   purpose               1000 non-null   object\n",
            " 4   amount                1000 non-null   int64 \n",
            " 5   savings_balance       1000 non-null   object\n",
            " 6   employment_duration   1000 non-null   object\n",
            " 7   percent_of_income     1000 non-null   int64 \n",
            " 8   years_at_residence    1000 non-null   int64 \n",
            " 9   age                   1000 non-null   int64 \n",
            " 10  other_credit          1000 non-null   object\n",
            " 11  housing               1000 non-null   object\n",
            " 12  existing_loans_count  1000 non-null   int64 \n",
            " 13  job                   1000 non-null   object\n",
            " 14  dependents            1000 non-null   int64 \n",
            " 15  phone                 1000 non-null   object\n",
            " 16  default               1000 non-null   object\n",
            "dtypes: int64(7), object(10)\n",
            "memory usage: 132.9+ KB\n"
          ]
        }
      ],
      "source": [
        "creditData.info()  # many columns are of type object i.e. strings. These need to be converted to ordinal type"
      ]
    },
    {
      "cell_type": "markdown",
      "metadata": {
        "id": "hVDy-BlVxLPz"
      },
      "source": [
        "Lets convert the columns with an 'object' datatype into categorical variables"
      ]
    },
    {
      "cell_type": "code",
      "execution_count": null,
      "metadata": {
        "id": "KQVE5XZJxLPz",
        "outputId": "683bab0e-8751-42e5-85e0-b48d80399907"
      },
      "outputs": [
        {
          "data": {
            "text/html": [
              "<div>\n",
              "<style scoped>\n",
              "    .dataframe tbody tr th:only-of-type {\n",
              "        vertical-align: middle;\n",
              "    }\n",
              "\n",
              "    .dataframe tbody tr th {\n",
              "        vertical-align: top;\n",
              "    }\n",
              "\n",
              "    .dataframe thead th {\n",
              "        text-align: right;\n",
              "    }\n",
              "</style>\n",
              "<table border=\"1\" class=\"dataframe\">\n",
              "  <thead>\n",
              "    <tr style=\"text-align: right;\">\n",
              "      <th></th>\n",
              "      <th>checking_balance</th>\n",
              "      <th>months_loan_duration</th>\n",
              "      <th>credit_history</th>\n",
              "      <th>purpose</th>\n",
              "      <th>amount</th>\n",
              "      <th>savings_balance</th>\n",
              "      <th>employment_duration</th>\n",
              "      <th>percent_of_income</th>\n",
              "      <th>years_at_residence</th>\n",
              "      <th>age</th>\n",
              "      <th>other_credit</th>\n",
              "      <th>housing</th>\n",
              "      <th>existing_loans_count</th>\n",
              "      <th>job</th>\n",
              "      <th>dependents</th>\n",
              "      <th>phone</th>\n",
              "      <th>default</th>\n",
              "    </tr>\n",
              "  </thead>\n",
              "  <tbody>\n",
              "    <tr>\n",
              "      <th>0</th>\n",
              "      <td>&lt; 0 DM</td>\n",
              "      <td>6</td>\n",
              "      <td>critical</td>\n",
              "      <td>furniture/appliances</td>\n",
              "      <td>1169</td>\n",
              "      <td>unknown</td>\n",
              "      <td>&gt; 7 years</td>\n",
              "      <td>4</td>\n",
              "      <td>4</td>\n",
              "      <td>67</td>\n",
              "      <td>none</td>\n",
              "      <td>own</td>\n",
              "      <td>2</td>\n",
              "      <td>skilled</td>\n",
              "      <td>1</td>\n",
              "      <td>yes</td>\n",
              "      <td>no</td>\n",
              "    </tr>\n",
              "    <tr>\n",
              "      <th>1</th>\n",
              "      <td>1 - 200 DM</td>\n",
              "      <td>48</td>\n",
              "      <td>good</td>\n",
              "      <td>furniture/appliances</td>\n",
              "      <td>5951</td>\n",
              "      <td>&lt; 100 DM</td>\n",
              "      <td>1 - 4 years</td>\n",
              "      <td>2</td>\n",
              "      <td>2</td>\n",
              "      <td>22</td>\n",
              "      <td>none</td>\n",
              "      <td>own</td>\n",
              "      <td>1</td>\n",
              "      <td>skilled</td>\n",
              "      <td>1</td>\n",
              "      <td>no</td>\n",
              "      <td>yes</td>\n",
              "    </tr>\n",
              "    <tr>\n",
              "      <th>2</th>\n",
              "      <td>unknown</td>\n",
              "      <td>12</td>\n",
              "      <td>critical</td>\n",
              "      <td>education</td>\n",
              "      <td>2096</td>\n",
              "      <td>&lt; 100 DM</td>\n",
              "      <td>4 - 7 years</td>\n",
              "      <td>2</td>\n",
              "      <td>3</td>\n",
              "      <td>49</td>\n",
              "      <td>none</td>\n",
              "      <td>own</td>\n",
              "      <td>1</td>\n",
              "      <td>unskilled</td>\n",
              "      <td>2</td>\n",
              "      <td>no</td>\n",
              "      <td>no</td>\n",
              "    </tr>\n",
              "    <tr>\n",
              "      <th>3</th>\n",
              "      <td>&lt; 0 DM</td>\n",
              "      <td>42</td>\n",
              "      <td>good</td>\n",
              "      <td>furniture/appliances</td>\n",
              "      <td>7882</td>\n",
              "      <td>&lt; 100 DM</td>\n",
              "      <td>4 - 7 years</td>\n",
              "      <td>2</td>\n",
              "      <td>4</td>\n",
              "      <td>45</td>\n",
              "      <td>none</td>\n",
              "      <td>other</td>\n",
              "      <td>1</td>\n",
              "      <td>skilled</td>\n",
              "      <td>2</td>\n",
              "      <td>no</td>\n",
              "      <td>no</td>\n",
              "    </tr>\n",
              "    <tr>\n",
              "      <th>4</th>\n",
              "      <td>&lt; 0 DM</td>\n",
              "      <td>24</td>\n",
              "      <td>poor</td>\n",
              "      <td>car</td>\n",
              "      <td>4870</td>\n",
              "      <td>&lt; 100 DM</td>\n",
              "      <td>1 - 4 years</td>\n",
              "      <td>3</td>\n",
              "      <td>4</td>\n",
              "      <td>53</td>\n",
              "      <td>none</td>\n",
              "      <td>other</td>\n",
              "      <td>2</td>\n",
              "      <td>skilled</td>\n",
              "      <td>2</td>\n",
              "      <td>no</td>\n",
              "      <td>yes</td>\n",
              "    </tr>\n",
              "    <tr>\n",
              "      <th>5</th>\n",
              "      <td>unknown</td>\n",
              "      <td>36</td>\n",
              "      <td>good</td>\n",
              "      <td>education</td>\n",
              "      <td>9055</td>\n",
              "      <td>unknown</td>\n",
              "      <td>1 - 4 years</td>\n",
              "      <td>2</td>\n",
              "      <td>4</td>\n",
              "      <td>35</td>\n",
              "      <td>none</td>\n",
              "      <td>other</td>\n",
              "      <td>1</td>\n",
              "      <td>unskilled</td>\n",
              "      <td>2</td>\n",
              "      <td>yes</td>\n",
              "      <td>no</td>\n",
              "    </tr>\n",
              "    <tr>\n",
              "      <th>6</th>\n",
              "      <td>unknown</td>\n",
              "      <td>24</td>\n",
              "      <td>good</td>\n",
              "      <td>furniture/appliances</td>\n",
              "      <td>2835</td>\n",
              "      <td>500 - 1000 DM</td>\n",
              "      <td>&gt; 7 years</td>\n",
              "      <td>3</td>\n",
              "      <td>4</td>\n",
              "      <td>53</td>\n",
              "      <td>none</td>\n",
              "      <td>own</td>\n",
              "      <td>1</td>\n",
              "      <td>skilled</td>\n",
              "      <td>1</td>\n",
              "      <td>no</td>\n",
              "      <td>no</td>\n",
              "    </tr>\n",
              "    <tr>\n",
              "      <th>7</th>\n",
              "      <td>1 - 200 DM</td>\n",
              "      <td>36</td>\n",
              "      <td>good</td>\n",
              "      <td>car</td>\n",
              "      <td>6948</td>\n",
              "      <td>&lt; 100 DM</td>\n",
              "      <td>1 - 4 years</td>\n",
              "      <td>2</td>\n",
              "      <td>2</td>\n",
              "      <td>35</td>\n",
              "      <td>none</td>\n",
              "      <td>rent</td>\n",
              "      <td>1</td>\n",
              "      <td>management</td>\n",
              "      <td>1</td>\n",
              "      <td>yes</td>\n",
              "      <td>no</td>\n",
              "    </tr>\n",
              "    <tr>\n",
              "      <th>8</th>\n",
              "      <td>unknown</td>\n",
              "      <td>12</td>\n",
              "      <td>good</td>\n",
              "      <td>furniture/appliances</td>\n",
              "      <td>3059</td>\n",
              "      <td>&gt; 1000 DM</td>\n",
              "      <td>4 - 7 years</td>\n",
              "      <td>2</td>\n",
              "      <td>4</td>\n",
              "      <td>61</td>\n",
              "      <td>none</td>\n",
              "      <td>own</td>\n",
              "      <td>1</td>\n",
              "      <td>unskilled</td>\n",
              "      <td>1</td>\n",
              "      <td>no</td>\n",
              "      <td>no</td>\n",
              "    </tr>\n",
              "    <tr>\n",
              "      <th>9</th>\n",
              "      <td>1 - 200 DM</td>\n",
              "      <td>30</td>\n",
              "      <td>critical</td>\n",
              "      <td>car</td>\n",
              "      <td>5234</td>\n",
              "      <td>&lt; 100 DM</td>\n",
              "      <td>unemployed</td>\n",
              "      <td>4</td>\n",
              "      <td>2</td>\n",
              "      <td>28</td>\n",
              "      <td>none</td>\n",
              "      <td>own</td>\n",
              "      <td>2</td>\n",
              "      <td>management</td>\n",
              "      <td>1</td>\n",
              "      <td>no</td>\n",
              "      <td>yes</td>\n",
              "    </tr>\n",
              "  </tbody>\n",
              "</table>\n",
              "</div>"
            ],
            "text/plain": [
              "  checking_balance  months_loan_duration credit_history               purpose  \\\n",
              "0           < 0 DM                     6       critical  furniture/appliances   \n",
              "1       1 - 200 DM                    48           good  furniture/appliances   \n",
              "2          unknown                    12       critical             education   \n",
              "3           < 0 DM                    42           good  furniture/appliances   \n",
              "4           < 0 DM                    24           poor                   car   \n",
              "5          unknown                    36           good             education   \n",
              "6          unknown                    24           good  furniture/appliances   \n",
              "7       1 - 200 DM                    36           good                   car   \n",
              "8          unknown                    12           good  furniture/appliances   \n",
              "9       1 - 200 DM                    30       critical                   car   \n",
              "\n",
              "   amount savings_balance employment_duration  percent_of_income  \\\n",
              "0    1169         unknown           > 7 years                  4   \n",
              "1    5951        < 100 DM         1 - 4 years                  2   \n",
              "2    2096        < 100 DM         4 - 7 years                  2   \n",
              "3    7882        < 100 DM         4 - 7 years                  2   \n",
              "4    4870        < 100 DM         1 - 4 years                  3   \n",
              "5    9055         unknown         1 - 4 years                  2   \n",
              "6    2835   500 - 1000 DM           > 7 years                  3   \n",
              "7    6948        < 100 DM         1 - 4 years                  2   \n",
              "8    3059       > 1000 DM         4 - 7 years                  2   \n",
              "9    5234        < 100 DM          unemployed                  4   \n",
              "\n",
              "   years_at_residence  age other_credit housing  existing_loans_count  \\\n",
              "0                   4   67         none     own                     2   \n",
              "1                   2   22         none     own                     1   \n",
              "2                   3   49         none     own                     1   \n",
              "3                   4   45         none   other                     1   \n",
              "4                   4   53         none   other                     2   \n",
              "5                   4   35         none   other                     1   \n",
              "6                   4   53         none     own                     1   \n",
              "7                   2   35         none    rent                     1   \n",
              "8                   4   61         none     own                     1   \n",
              "9                   2   28         none     own                     2   \n",
              "\n",
              "          job  dependents phone default  \n",
              "0     skilled           1   yes      no  \n",
              "1     skilled           1    no     yes  \n",
              "2   unskilled           2    no      no  \n",
              "3     skilled           2    no      no  \n",
              "4     skilled           2    no     yes  \n",
              "5   unskilled           2   yes      no  \n",
              "6     skilled           1    no      no  \n",
              "7  management           1   yes      no  \n",
              "8   unskilled           1    no      no  \n",
              "9  management           1    no     yes  "
            ]
          },
          "execution_count": 7,
          "metadata": {},
          "output_type": "execute_result"
        }
      ],
      "source": [
        "for feature in creditData.columns: # Loop through all columns in the dataframe\n",
        "    if creditData[feature].dtype == 'object': # Only apply for columns with categorical strings\n",
        "        creditData[feature] = pd.Categorical(creditData[feature])# Replace strings with an integer\n",
        "creditData.head(10)"
      ]
    },
    {
      "cell_type": "code",
      "execution_count": null,
      "metadata": {
        "id": "jf4JAhwJxLP2",
        "outputId": "4719ccee-2e82-4174-e740-ebd0d7166d2d"
      },
      "outputs": [
        {
          "name": "stdout",
          "output_type": "stream",
          "text": [
            "unknown       394\n",
            "< 0 DM        274\n",
            "1 - 200 DM    269\n",
            "> 200 DM       63\n",
            "Name: checking_balance, dtype: int64\n",
            "good         530\n",
            "critical     293\n",
            "poor          88\n",
            "very good     49\n",
            "perfect       40\n",
            "Name: credit_history, dtype: int64\n",
            "furniture/appliances    473\n",
            "car                     337\n",
            "business                 97\n",
            "education                59\n",
            "renovations              22\n",
            "car0                     12\n",
            "Name: purpose, dtype: int64\n",
            "< 100 DM         603\n",
            "unknown          183\n",
            "100 - 500 DM     103\n",
            "500 - 1000 DM     63\n",
            "> 1000 DM         48\n",
            "Name: savings_balance, dtype: int64\n",
            "1 - 4 years    339\n",
            "> 7 years      253\n",
            "4 - 7 years    174\n",
            "< 1 year       172\n",
            "unemployed      62\n",
            "Name: employment_duration, dtype: int64\n",
            "none     814\n",
            "bank     139\n",
            "store     47\n",
            "Name: other_credit, dtype: int64\n",
            "own      713\n",
            "rent     179\n",
            "other    108\n",
            "Name: housing, dtype: int64\n",
            "skilled       630\n",
            "unskilled     200\n",
            "management    148\n",
            "unemployed     22\n",
            "Name: job, dtype: int64\n",
            "no     596\n",
            "yes    404\n",
            "Name: phone, dtype: int64\n"
          ]
        }
      ],
      "source": [
        "print(creditData.checking_balance.value_counts())\n",
        "print(creditData.credit_history.value_counts())\n",
        "print(creditData.purpose.value_counts())\n",
        "print(creditData.savings_balance.value_counts())\n",
        "print(creditData.employment_duration.value_counts())\n",
        "print(creditData.other_credit.value_counts())\n",
        "print(creditData.housing.value_counts())\n",
        "print(creditData.job.value_counts())\n",
        "print(creditData.phone.value_counts())\n"
      ]
    },
    {
      "cell_type": "code",
      "execution_count": null,
      "metadata": {
        "id": "Tgft_TIVxLP4",
        "scrolled": true
      },
      "outputs": [],
      "source": [
        "replaceStruct = {\n",
        "                \"checking_balance\":     {\"< 0 DM\": 1, \"1 - 200 DM\": 2 ,\"> 200 DM\": 3 ,\"unknown\":-1},\n",
        "                \"credit_history\": {\"critical\": 1, \"poor\":2 , \"good\": 3, \"very good\": 4,\"perfect\": 5},\n",
        "                 \"savings_balance\": {\"< 100 DM\": 1, \"100 - 500 DM\":2 , \"500 - 1000 DM\": 3, \"> 1000 DM\": 4,\"unknown\": -1},\n",
        "                 \"employment_duration\":     {\"unemployed\": 1, \"< 1 year\": 2 ,\"1 - 4 years\": 3 ,\"4 - 7 years\": 4 ,\"> 7 years\": 5},\n",
        "                \"phone\":     {\"no\": 1, \"yes\": 2 },\n",
        "                #\"job\":     {\"unemployed\": 1, \"unskilled\": 2, \"skilled\": 3, \"management\": 4 },\n",
        "                \"default\":     {\"no\": 0, \"yes\": 1 }\n",
        "                    }\n",
        "oneHotCols=[\"purpose\",\"housing\",\"other_credit\",\"job\", \"checking_balance\",\n",
        "            \"credit_history\", \"savings_balance\", \"employment_duration\", \"phone\"]\n"
      ]
    },
    {
      "cell_type": "code",
      "execution_count": null,
      "metadata": {
        "id": "jxeyJbJFxLP6",
        "outputId": "ec5bb8e3-b09d-4920-f84b-d85791f37ff4",
        "scrolled": false
      },
      "outputs": [
        {
          "data": {
            "text/html": [
              "<div>\n",
              "<style scoped>\n",
              "    .dataframe tbody tr th:only-of-type {\n",
              "        vertical-align: middle;\n",
              "    }\n",
              "\n",
              "    .dataframe tbody tr th {\n",
              "        vertical-align: top;\n",
              "    }\n",
              "\n",
              "    .dataframe thead th {\n",
              "        text-align: right;\n",
              "    }\n",
              "</style>\n",
              "<table border=\"1\" class=\"dataframe\">\n",
              "  <thead>\n",
              "    <tr style=\"text-align: right;\">\n",
              "      <th></th>\n",
              "      <th>months_loan_duration</th>\n",
              "      <th>amount</th>\n",
              "      <th>percent_of_income</th>\n",
              "      <th>years_at_residence</th>\n",
              "      <th>age</th>\n",
              "      <th>existing_loans_count</th>\n",
              "      <th>dependents</th>\n",
              "      <th>default</th>\n",
              "      <th>purpose_business</th>\n",
              "      <th>purpose_car</th>\n",
              "      <th>...</th>\n",
              "      <th>savings_balance_1</th>\n",
              "      <th>savings_balance_4</th>\n",
              "      <th>savings_balance_-1</th>\n",
              "      <th>employment_duration_3</th>\n",
              "      <th>employment_duration_4</th>\n",
              "      <th>employment_duration_2</th>\n",
              "      <th>employment_duration_5</th>\n",
              "      <th>employment_duration_1</th>\n",
              "      <th>phone_1</th>\n",
              "      <th>phone_2</th>\n",
              "    </tr>\n",
              "  </thead>\n",
              "  <tbody>\n",
              "    <tr>\n",
              "      <th>0</th>\n",
              "      <td>6</td>\n",
              "      <td>1169</td>\n",
              "      <td>4</td>\n",
              "      <td>4</td>\n",
              "      <td>67</td>\n",
              "      <td>2</td>\n",
              "      <td>1</td>\n",
              "      <td>0</td>\n",
              "      <td>0</td>\n",
              "      <td>0</td>\n",
              "      <td>...</td>\n",
              "      <td>0</td>\n",
              "      <td>0</td>\n",
              "      <td>1</td>\n",
              "      <td>0</td>\n",
              "      <td>0</td>\n",
              "      <td>0</td>\n",
              "      <td>1</td>\n",
              "      <td>0</td>\n",
              "      <td>0</td>\n",
              "      <td>1</td>\n",
              "    </tr>\n",
              "    <tr>\n",
              "      <th>1</th>\n",
              "      <td>48</td>\n",
              "      <td>5951</td>\n",
              "      <td>2</td>\n",
              "      <td>2</td>\n",
              "      <td>22</td>\n",
              "      <td>1</td>\n",
              "      <td>1</td>\n",
              "      <td>1</td>\n",
              "      <td>0</td>\n",
              "      <td>0</td>\n",
              "      <td>...</td>\n",
              "      <td>1</td>\n",
              "      <td>0</td>\n",
              "      <td>0</td>\n",
              "      <td>1</td>\n",
              "      <td>0</td>\n",
              "      <td>0</td>\n",
              "      <td>0</td>\n",
              "      <td>0</td>\n",
              "      <td>1</td>\n",
              "      <td>0</td>\n",
              "    </tr>\n",
              "    <tr>\n",
              "      <th>2</th>\n",
              "      <td>12</td>\n",
              "      <td>2096</td>\n",
              "      <td>2</td>\n",
              "      <td>3</td>\n",
              "      <td>49</td>\n",
              "      <td>1</td>\n",
              "      <td>2</td>\n",
              "      <td>0</td>\n",
              "      <td>0</td>\n",
              "      <td>0</td>\n",
              "      <td>...</td>\n",
              "      <td>1</td>\n",
              "      <td>0</td>\n",
              "      <td>0</td>\n",
              "      <td>0</td>\n",
              "      <td>1</td>\n",
              "      <td>0</td>\n",
              "      <td>0</td>\n",
              "      <td>0</td>\n",
              "      <td>1</td>\n",
              "      <td>0</td>\n",
              "    </tr>\n",
              "    <tr>\n",
              "      <th>3</th>\n",
              "      <td>42</td>\n",
              "      <td>7882</td>\n",
              "      <td>2</td>\n",
              "      <td>4</td>\n",
              "      <td>45</td>\n",
              "      <td>1</td>\n",
              "      <td>2</td>\n",
              "      <td>0</td>\n",
              "      <td>0</td>\n",
              "      <td>0</td>\n",
              "      <td>...</td>\n",
              "      <td>1</td>\n",
              "      <td>0</td>\n",
              "      <td>0</td>\n",
              "      <td>0</td>\n",
              "      <td>1</td>\n",
              "      <td>0</td>\n",
              "      <td>0</td>\n",
              "      <td>0</td>\n",
              "      <td>1</td>\n",
              "      <td>0</td>\n",
              "    </tr>\n",
              "    <tr>\n",
              "      <th>4</th>\n",
              "      <td>24</td>\n",
              "      <td>4870</td>\n",
              "      <td>3</td>\n",
              "      <td>4</td>\n",
              "      <td>53</td>\n",
              "      <td>2</td>\n",
              "      <td>2</td>\n",
              "      <td>1</td>\n",
              "      <td>0</td>\n",
              "      <td>1</td>\n",
              "      <td>...</td>\n",
              "      <td>1</td>\n",
              "      <td>0</td>\n",
              "      <td>0</td>\n",
              "      <td>1</td>\n",
              "      <td>0</td>\n",
              "      <td>0</td>\n",
              "      <td>0</td>\n",
              "      <td>0</td>\n",
              "      <td>1</td>\n",
              "      <td>0</td>\n",
              "    </tr>\n",
              "    <tr>\n",
              "      <th>5</th>\n",
              "      <td>36</td>\n",
              "      <td>9055</td>\n",
              "      <td>2</td>\n",
              "      <td>4</td>\n",
              "      <td>35</td>\n",
              "      <td>1</td>\n",
              "      <td>2</td>\n",
              "      <td>0</td>\n",
              "      <td>0</td>\n",
              "      <td>0</td>\n",
              "      <td>...</td>\n",
              "      <td>0</td>\n",
              "      <td>0</td>\n",
              "      <td>1</td>\n",
              "      <td>1</td>\n",
              "      <td>0</td>\n",
              "      <td>0</td>\n",
              "      <td>0</td>\n",
              "      <td>0</td>\n",
              "      <td>0</td>\n",
              "      <td>1</td>\n",
              "    </tr>\n",
              "    <tr>\n",
              "      <th>6</th>\n",
              "      <td>24</td>\n",
              "      <td>2835</td>\n",
              "      <td>3</td>\n",
              "      <td>4</td>\n",
              "      <td>53</td>\n",
              "      <td>1</td>\n",
              "      <td>1</td>\n",
              "      <td>0</td>\n",
              "      <td>0</td>\n",
              "      <td>0</td>\n",
              "      <td>...</td>\n",
              "      <td>0</td>\n",
              "      <td>0</td>\n",
              "      <td>0</td>\n",
              "      <td>0</td>\n",
              "      <td>0</td>\n",
              "      <td>0</td>\n",
              "      <td>1</td>\n",
              "      <td>0</td>\n",
              "      <td>1</td>\n",
              "      <td>0</td>\n",
              "    </tr>\n",
              "    <tr>\n",
              "      <th>7</th>\n",
              "      <td>36</td>\n",
              "      <td>6948</td>\n",
              "      <td>2</td>\n",
              "      <td>2</td>\n",
              "      <td>35</td>\n",
              "      <td>1</td>\n",
              "      <td>1</td>\n",
              "      <td>0</td>\n",
              "      <td>0</td>\n",
              "      <td>1</td>\n",
              "      <td>...</td>\n",
              "      <td>1</td>\n",
              "      <td>0</td>\n",
              "      <td>0</td>\n",
              "      <td>1</td>\n",
              "      <td>0</td>\n",
              "      <td>0</td>\n",
              "      <td>0</td>\n",
              "      <td>0</td>\n",
              "      <td>0</td>\n",
              "      <td>1</td>\n",
              "    </tr>\n",
              "    <tr>\n",
              "      <th>8</th>\n",
              "      <td>12</td>\n",
              "      <td>3059</td>\n",
              "      <td>2</td>\n",
              "      <td>4</td>\n",
              "      <td>61</td>\n",
              "      <td>1</td>\n",
              "      <td>1</td>\n",
              "      <td>0</td>\n",
              "      <td>0</td>\n",
              "      <td>0</td>\n",
              "      <td>...</td>\n",
              "      <td>0</td>\n",
              "      <td>1</td>\n",
              "      <td>0</td>\n",
              "      <td>0</td>\n",
              "      <td>1</td>\n",
              "      <td>0</td>\n",
              "      <td>0</td>\n",
              "      <td>0</td>\n",
              "      <td>1</td>\n",
              "      <td>0</td>\n",
              "    </tr>\n",
              "    <tr>\n",
              "      <th>9</th>\n",
              "      <td>30</td>\n",
              "      <td>5234</td>\n",
              "      <td>4</td>\n",
              "      <td>2</td>\n",
              "      <td>28</td>\n",
              "      <td>2</td>\n",
              "      <td>1</td>\n",
              "      <td>1</td>\n",
              "      <td>0</td>\n",
              "      <td>1</td>\n",
              "      <td>...</td>\n",
              "      <td>1</td>\n",
              "      <td>0</td>\n",
              "      <td>0</td>\n",
              "      <td>0</td>\n",
              "      <td>0</td>\n",
              "      <td>0</td>\n",
              "      <td>0</td>\n",
              "      <td>1</td>\n",
              "      <td>1</td>\n",
              "      <td>0</td>\n",
              "    </tr>\n",
              "  </tbody>\n",
              "</table>\n",
              "<p>10 rows × 45 columns</p>\n",
              "</div>"
            ],
            "text/plain": [
              "   months_loan_duration  amount  percent_of_income  years_at_residence  age  \\\n",
              "0                     6    1169                  4                   4   67   \n",
              "1                    48    5951                  2                   2   22   \n",
              "2                    12    2096                  2                   3   49   \n",
              "3                    42    7882                  2                   4   45   \n",
              "4                    24    4870                  3                   4   53   \n",
              "5                    36    9055                  2                   4   35   \n",
              "6                    24    2835                  3                   4   53   \n",
              "7                    36    6948                  2                   2   35   \n",
              "8                    12    3059                  2                   4   61   \n",
              "9                    30    5234                  4                   2   28   \n",
              "\n",
              "   existing_loans_count  dependents default  purpose_business  purpose_car  \\\n",
              "0                     2           1       0                 0            0   \n",
              "1                     1           1       1                 0            0   \n",
              "2                     1           2       0                 0            0   \n",
              "3                     1           2       0                 0            0   \n",
              "4                     2           2       1                 0            1   \n",
              "5                     1           2       0                 0            0   \n",
              "6                     1           1       0                 0            0   \n",
              "7                     1           1       0                 0            1   \n",
              "8                     1           1       0                 0            0   \n",
              "9                     2           1       1                 0            1   \n",
              "\n",
              "   ...  savings_balance_1  savings_balance_4  savings_balance_-1  \\\n",
              "0  ...                  0                  0                   1   \n",
              "1  ...                  1                  0                   0   \n",
              "2  ...                  1                  0                   0   \n",
              "3  ...                  1                  0                   0   \n",
              "4  ...                  1                  0                   0   \n",
              "5  ...                  0                  0                   1   \n",
              "6  ...                  0                  0                   0   \n",
              "7  ...                  1                  0                   0   \n",
              "8  ...                  0                  1                   0   \n",
              "9  ...                  1                  0                   0   \n",
              "\n",
              "   employment_duration_3  employment_duration_4  employment_duration_2  \\\n",
              "0                      0                      0                      0   \n",
              "1                      1                      0                      0   \n",
              "2                      0                      1                      0   \n",
              "3                      0                      1                      0   \n",
              "4                      1                      0                      0   \n",
              "5                      1                      0                      0   \n",
              "6                      0                      0                      0   \n",
              "7                      1                      0                      0   \n",
              "8                      0                      1                      0   \n",
              "9                      0                      0                      0   \n",
              "\n",
              "   employment_duration_5  employment_duration_1  phone_1  phone_2  \n",
              "0                      1                      0        0        1  \n",
              "1                      0                      0        1        0  \n",
              "2                      0                      0        1        0  \n",
              "3                      0                      0        1        0  \n",
              "4                      0                      0        1        0  \n",
              "5                      0                      0        0        1  \n",
              "6                      1                      0        1        0  \n",
              "7                      0                      0        0        1  \n",
              "8                      0                      0        1        0  \n",
              "9                      0                      1        1        0  \n",
              "\n",
              "[10 rows x 45 columns]"
            ]
          },
          "execution_count": 10,
          "metadata": {},
          "output_type": "execute_result"
        }
      ],
      "source": [
        "creditData=creditData.replace(replaceStruct)\n",
        "creditData=pd.get_dummies(creditData, columns=oneHotCols)\n",
        "creditData.head(10)\n"
      ]
    },
    {
      "cell_type": "code",
      "execution_count": null,
      "metadata": {
        "id": "PqTiaxCrxLP8",
        "outputId": "ffb94d79-da96-4923-937a-7171b38eec97"
      },
      "outputs": [
        {
          "name": "stdout",
          "output_type": "stream",
          "text": [
            "<class 'pandas.core.frame.DataFrame'>\n",
            "RangeIndex: 1000 entries, 0 to 999\n",
            "Data columns (total 45 columns):\n",
            " #   Column                        Non-Null Count  Dtype   \n",
            "---  ------                        --------------  -----   \n",
            " 0   months_loan_duration          1000 non-null   int64   \n",
            " 1   amount                        1000 non-null   int64   \n",
            " 2   percent_of_income             1000 non-null   int64   \n",
            " 3   years_at_residence            1000 non-null   int64   \n",
            " 4   age                           1000 non-null   int64   \n",
            " 5   existing_loans_count          1000 non-null   int64   \n",
            " 6   dependents                    1000 non-null   int64   \n",
            " 7   default                       1000 non-null   category\n",
            " 8   purpose_business              1000 non-null   uint8   \n",
            " 9   purpose_car                   1000 non-null   uint8   \n",
            " 10  purpose_car0                  1000 non-null   uint8   \n",
            " 11  purpose_education             1000 non-null   uint8   \n",
            " 12  purpose_furniture/appliances  1000 non-null   uint8   \n",
            " 13  purpose_renovations           1000 non-null   uint8   \n",
            " 14  housing_other                 1000 non-null   uint8   \n",
            " 15  housing_own                   1000 non-null   uint8   \n",
            " 16  housing_rent                  1000 non-null   uint8   \n",
            " 17  other_credit_bank             1000 non-null   uint8   \n",
            " 18  other_credit_none             1000 non-null   uint8   \n",
            " 19  other_credit_store            1000 non-null   uint8   \n",
            " 20  job_management                1000 non-null   uint8   \n",
            " 21  job_skilled                   1000 non-null   uint8   \n",
            " 22  job_unemployed                1000 non-null   uint8   \n",
            " 23  job_unskilled                 1000 non-null   uint8   \n",
            " 24  checking_balance_2            1000 non-null   uint8   \n",
            " 25  checking_balance_1            1000 non-null   uint8   \n",
            " 26  checking_balance_3            1000 non-null   uint8   \n",
            " 27  checking_balance_-1           1000 non-null   uint8   \n",
            " 28  credit_history_1              1000 non-null   uint8   \n",
            " 29  credit_history_3              1000 non-null   uint8   \n",
            " 30  credit_history_5              1000 non-null   uint8   \n",
            " 31  credit_history_2              1000 non-null   uint8   \n",
            " 32  credit_history_4              1000 non-null   uint8   \n",
            " 33  savings_balance_2             1000 non-null   uint8   \n",
            " 34  savings_balance_3             1000 non-null   uint8   \n",
            " 35  savings_balance_1             1000 non-null   uint8   \n",
            " 36  savings_balance_4             1000 non-null   uint8   \n",
            " 37  savings_balance_-1            1000 non-null   uint8   \n",
            " 38  employment_duration_3         1000 non-null   uint8   \n",
            " 39  employment_duration_4         1000 non-null   uint8   \n",
            " 40  employment_duration_2         1000 non-null   uint8   \n",
            " 41  employment_duration_5         1000 non-null   uint8   \n",
            " 42  employment_duration_1         1000 non-null   uint8   \n",
            " 43  phone_1                       1000 non-null   uint8   \n",
            " 44  phone_2                       1000 non-null   uint8   \n",
            "dtypes: category(1), int64(7), uint8(37)\n",
            "memory usage: 92.0 KB\n"
          ]
        }
      ],
      "source": [
        "creditData.info()"
      ]
    },
    {
      "cell_type": "markdown",
      "metadata": {
        "id": "0L-oAMItxLP-"
      },
      "source": [
        "## Split the data into train and test sets"
      ]
    },
    {
      "cell_type": "markdown",
      "metadata": {
        "id": "wybGwK9NPMWl"
      },
      "source": [
        "- When data (classification) exhibit a significant imbalance in the distribution of the target classes, it is good to use stratified sampling to ensure that relative class frequencies are approximately preserved in train and test sets.\n",
        "- This is done by setting the `stratify` parameter to target variable in the train_test_split function."
      ]
    },
    {
      "cell_type": "code",
      "execution_count": null,
      "metadata": {
        "id": "AWq265BvxLP_"
      },
      "outputs": [],
      "source": [
        "X = creditData.drop(\"default\" , axis=1)\n",
        "y = creditData.pop(\"default\")"
      ]
    },
    {
      "cell_type": "code",
      "execution_count": null,
      "metadata": {
        "id": "8EIKHRCmxLQB"
      },
      "outputs": [],
      "source": [
        "X_train, X_test, y_train, y_test = train_test_split(X, y, test_size=.30, random_state=1,stratify=y)"
      ]
    },
    {
      "cell_type": "markdown",
      "metadata": {
        "id": "PCflIG4pPMWl"
      },
      "source": [
        "**We will use the same functions, created in bagging hands-on lecture, to calculate different metrics and plot the confusion matrix.**"
      ]
    },
    {
      "cell_type": "code",
      "execution_count": null,
      "metadata": {
        "id": "l04soj0lPMWl"
      },
      "outputs": [],
      "source": [
        "## Function to create confusion matrix\n",
        "def make_confusion_matrix(model,y_actual,labels=[1, 0]):\n",
        "    '''\n",
        "    model : classifier to predict values of X\n",
        "    y_actual : ground truth\n",
        "\n",
        "    '''\n",
        "    y_predict = model.predict(X_test)\n",
        "    cm=metrics.confusion_matrix( y_actual, y_predict, labels=[0, 1])\n",
        "    df_cm = pd.DataFrame(cm, index = [i for i in [\"Actual - No\",\"Actual - Yes\"]],\n",
        "                  columns = [i for i in ['Predicted - No','Predicted - Yes']])\n",
        "    group_counts = [\"{0:0.0f}\".format(value) for value in\n",
        "                cm.flatten()]\n",
        "    group_percentages = [\"{0:.2%}\".format(value) for value in\n",
        "                         cm.flatten()/np.sum(cm)]\n",
        "    labels = [f\"{v1}\\n{v2}\" for v1, v2 in\n",
        "              zip(group_counts,group_percentages)]\n",
        "    labels = np.asarray(labels).reshape(2,2)\n",
        "    plt.figure(figsize = (10,7))\n",
        "    sns.heatmap(df_cm, annot=labels,fmt='')\n",
        "    plt.ylabel('True label')\n",
        "    plt.xlabel('Predicted label')"
      ]
    },
    {
      "cell_type": "code",
      "execution_count": null,
      "metadata": {
        "id": "ypx1s5DoPMWl"
      },
      "outputs": [],
      "source": [
        "##  Function to calculate different metric scores of the model - Accuracy, Recall and Precision\n",
        "def get_metrics_score(model,flag=True):\n",
        "    '''\n",
        "    model : classifier to predict values of X\n",
        "\n",
        "    '''\n",
        "    # defining an empty list to store train and test results\n",
        "    score_list=[]\n",
        "\n",
        "    pred_train = model.predict(X_train)\n",
        "    pred_test = model.predict(X_test)\n",
        "\n",
        "    train_acc = model.score(X_train,y_train)\n",
        "    test_acc = model.score(X_test,y_test)\n",
        "\n",
        "    train_recall = metrics.recall_score(y_train,pred_train)\n",
        "    test_recall = metrics.recall_score(y_test,pred_test)\n",
        "\n",
        "    train_precision = metrics.precision_score(y_train,pred_train)\n",
        "    test_precision = metrics.precision_score(y_test,pred_test)\n",
        "\n",
        "    score_list.extend((train_acc,test_acc,train_recall,test_recall,train_precision,test_precision))\n",
        "\n",
        "    # If the flag is set to True then only the following print statements will be dispayed. The default value is set to True.\n",
        "    if flag == True:\n",
        "        print(\"Accuracy on training set : \",model.score(X_train,y_train))\n",
        "        print(\"Accuracy on test set : \",model.score(X_test,y_test))\n",
        "        print(\"Recall on training set : \",metrics.recall_score(y_train,pred_train))\n",
        "        print(\"Recall on test set : \",metrics.recall_score(y_test,pred_test))\n",
        "        print(\"Precision on training set : \",metrics.precision_score(y_train,pred_train))\n",
        "        print(\"Precision on test set : \",metrics.precision_score(y_test,pred_test))\n",
        "\n",
        "    return score_list # returning the list with train and test scores"
      ]
    },
    {
      "cell_type": "markdown",
      "metadata": {
        "id": "Hf2KX-49PMWl"
      },
      "source": [
        "## Building the model\n",
        "- We are going to build 3 ensemble models here - AdaBoost Classifier, Gradient Boosting Classifier and XGBoost Classifier.\n",
        "- First, let's build these models with default parameters and then use hyperparameter tuning to optimize the model performance.\n",
        "- We will calculate all three metrics - Accuracy, Precision and Recall but the metric of interest here is recall.\n",
        "- `Recall` - It gives the ratio of True positives to Actual positives, so high Recall implies low false negatives, i.e. low chances of predicting a defaulter as non defaulter"
      ]
    },
    {
      "cell_type": "markdown",
      "metadata": {
        "id": "xlSO5EeZPMWm"
      },
      "source": [
        "### AdaBoost Classifier"
      ]
    },
    {
      "cell_type": "code",
      "execution_count": null,
      "metadata": {
        "id": "9j8uBI5FPMWm",
        "outputId": "ef2e2e9f-15fe-4070-d267-249b638c5b47"
      },
      "outputs": [
        {
          "data": {
            "text/plain": [
              "AdaBoostClassifier(random_state=1)"
            ]
          },
          "execution_count": 16,
          "metadata": {},
          "output_type": "execute_result"
        }
      ],
      "source": [
        "abc = AdaBoostClassifier(random_state=1)\n",
        "abc.fit(X_train,y_train)"
      ]
    },
    {
      "cell_type": "code",
      "execution_count": null,
      "metadata": {
        "id": "54Fm0tX8PMWm",
        "outputId": "a58faa12-e462-4105-f7d0-7de171d13445"
      },
      "outputs": [
        {
          "name": "stdout",
          "output_type": "stream",
          "text": [
            "Accuracy on training set :  0.8\n",
            "Accuracy on test set :  0.7666666666666667\n",
            "Recall on training set :  0.5857142857142857\n",
            "Recall on test set :  0.5555555555555556\n",
            "Precision on training set :  0.6988636363636364\n",
            "Precision on test set :  0.625\n"
          ]
        }
      ],
      "source": [
        "#Using above defined function to get accuracy, recall and precision on train and test set\n",
        "abc_score=get_metrics_score(abc)"
      ]
    },
    {
      "cell_type": "code",
      "execution_count": null,
      "metadata": {
        "id": "93KxupxpPMWm",
        "outputId": "40404e22-cbd7-4f19-97db-da30aecb66aa"
      },
      "outputs": [
        {
          "data": {
            "image/png": "[encoded data removed]",
            "text/plain": [
              "<Figure size 720x504 with 2 Axes>"
            ]
          },
          "metadata": {
            "needs_background": "light"
          },
          "output_type": "display_data"
        }
      ],
      "source": [
        "make_confusion_matrix(abc,y_test)"
      ]
    },
    {
      "cell_type": "markdown",
      "metadata": {
        "id": "TBnbJfq8PMWm"
      },
      "source": [
        "### Gradient Boosting Classifier"
      ]
    },
    {
      "cell_type": "code",
      "execution_count": null,
      "metadata": {
        "id": "S7Nwi65EPMWm",
        "outputId": "7f79e3ac-7b70-4bcb-c8d6-1c903f7f0088"
      },
      "outputs": [
        {
          "data": {
            "text/plain": [
              "GradientBoostingClassifier(random_state=1)"
            ]
          },
          "execution_count": 19,
          "metadata": {},
          "output_type": "execute_result"
        }
      ],
      "source": [
        "gbc = GradientBoostingClassifier(random_state=1)\n",
        "gbc.fit(X_train,y_train)"
      ]
    },
    {
      "cell_type": "code",
      "execution_count": null,
      "metadata": {
        "id": "v7_4RqcsPMWm",
        "outputId": "47c74f60-6d49-4863-dac5-c7812b63f7ee"
      },
      "outputs": [
        {
          "name": "stdout",
          "output_type": "stream",
          "text": [
            "Accuracy on training set :  0.9228571428571428\n",
            "Accuracy on test set :  0.7466666666666667\n",
            "Recall on training set :  0.7714285714285715\n",
            "Recall on test set :  0.4666666666666667\n",
            "Precision on training set :  0.9642857142857143\n",
            "Precision on test set :  0.6\n"
          ]
        }
      ],
      "source": [
        "#Using above defined function to get accuracy, recall and precision on train and test set\n",
        "gbc_score=get_metrics_score(gbc)"
      ]
    },
    {
      "cell_type": "code",
      "execution_count": null,
      "metadata": {
        "id": "XFTfGWmCPMWn",
        "outputId": "e393f470-da1d-4c9c-c709-6b936c0e05d1"
      },
      "outputs": [
        {
          "data": {
            "image/png": "[encoded data removed]",
            "text/plain": [
              "<Figure size 720x504 with 2 Axes>"
            ]
          },
          "metadata": {
            "needs_background": "light"
          },
          "output_type": "display_data"
        }
      ],
      "source": [
        "make_confusion_matrix(gbc,y_test)"
      ]
    },
    {
      "cell_type": "markdown",
      "metadata": {
        "id": "Az4fZ92LPMWn"
      },
      "source": [
        "### XGBoost Classifier"
      ]
    },
    {
      "cell_type": "code",
      "execution_count": null,
      "metadata": {
        "id": "IsSHd1XqPMWn",
        "outputId": "664951d0-6fc4-4c3f-ac88-c9595bf9775a"
      },
      "outputs": [
        {
          "data": {
            "text/plain": [
              "XGBClassifier(base_score=0.5, booster='gbtree', colsample_bylevel=1,\n",
              "              colsample_bynode=1, colsample_bytree=1, enable_categorical=False,\n",
              "              eval_metric='logloss', gamma=0, gpu_id=-1, importance_type=None,\n",
              "              interaction_constraints='', learning_rate=0.300000012,\n",
              "              max_delta_step=0, max_depth=6, min_child_weight=1, missing=nan,\n",
              "              monotone_constraints='()', n_estimators=100, n_jobs=8,\n",
              "              num_parallel_tree=1, predictor='auto', random_state=1,\n",
              "              reg_alpha=0, reg_lambda=1, scale_pos_weight=1, subsample=1,\n",
              "              tree_method='exact', validate_parameters=1, verbosity=None)"
            ]
          },
          "execution_count": 24,
          "metadata": {},
          "output_type": "execute_result"
        }
      ],
      "source": [
        "xgb = XGBClassifier(random_state=1,eval_metric='logloss')\n",
        "xgb.fit(X_train, y_train)"
      ]
    },
    {
      "cell_type": "code",
      "execution_count": null,
      "metadata": {
        "id": "dW7al4kNPMWn",
        "outputId": "d7ca009d-b8cd-48f6-c25f-8c36510d4f90"
      },
      "outputs": [
        {
          "name": "stdout",
          "output_type": "stream",
          "text": [
            "Accuracy on training set :  1.0\n",
            "Accuracy on test set :  0.7533333333333333\n",
            "Recall on training set :  1.0\n",
            "Recall on test set :  0.5111111111111111\n",
            "Precision on training set :  1.0\n",
            "Precision on test set :  0.6052631578947368\n"
          ]
        }
      ],
      "source": [
        "#Using above defined function to get accuracy, recall and precision on train and test set\n",
        "xgb_score=get_metrics_score(xgb)"
      ]
    },
    {
      "cell_type": "code",
      "execution_count": null,
      "metadata": {
        "id": "srsN1HdFPMWo",
        "outputId": "5f8b072f-be17-4c6a-9610-e2448ec32f53"
      },
      "outputs": [
        {
          "data": {
            "image/png": "[encoded data removed]",
            "text/plain": [
              "<Figure size 720x504 with 2 Axes>"
            ]
          },
          "metadata": {
            "needs_background": "light"
          },
          "output_type": "display_data"
        }
      ],
      "source": [
        "make_confusion_matrix(xgb,y_test)"
      ]
    },
    {
      "cell_type": "markdown",
      "metadata": {
        "id": "xvhLPjpcPMWo"
      },
      "source": [
        "**With default parameters:**\n",
        "- AdaBoost classifier has better test accuracy among these 3 models.\n",
        "- GB classifier has least test accuracy and test recall."
      ]
    },
    {
      "cell_type": "markdown",
      "metadata": {
        "id": "BlVnUn0BPMWo"
      },
      "source": [
        "## Hyperparameter Tuning\n",
        "\n",
        "### AdaBoost Classifier"
      ]
    },
    {
      "cell_type": "markdown",
      "metadata": {
        "id": "gVqWpLm4PMWx"
      },
      "source": [
        "- An AdaBoost classifier is a meta-estimator that begins by fitting a classifier on the original dataset and then fits additional copies of the classifier on the same dataset but where the weights of incorrectly classified instances are adjusted such that subsequent classifiers focus more on difficult cases.\n",
        "- Some important hyperparamters are:\n",
        "    - base_estimator: The base estimator from which the boosted ensemble is built. By default the base estimator is a decision tree with max_depth=1\n",
        "    - n_estimators: The maximum number of estimators at which boosting is terminated. Default value is 50.\n",
        "    - learning_rate: Learning rate shrinks the contribution of each classifier by learning_rate. There is a trade-off between learning_rate and n_estimators."
      ]
    },
    {
      "cell_type": "code",
      "execution_count": null,
      "metadata": {
        "id": "UfbHaZXbPMWx",
        "outputId": "d2355543-f316-461f-f436-caaddb6f6f77"
      },
      "outputs": [
        {
          "data": {
            "text/plain": [
              "AdaBoostClassifier(base_estimator=DecisionTreeClassifier(max_depth=2,\n",
              "                                                         random_state=1),\n",
              "                   learning_rate=1.5000000000000002, n_estimators=30,\n",
              "                   random_state=1)"
            ]
          },
          "execution_count": 27,
          "metadata": {},
          "output_type": "execute_result"
        }
      ],
      "source": [
        "# Choose the type of classifier.\n",
        "abc_tuned = AdaBoostClassifier(random_state=1)\n",
        "\n",
        "# Grid of parameters to choose from\n",
        "## add from article\n",
        "parameters = {\n",
        "    #Let's try different max_depth for base_estimator\n",
        "    \"base_estimator\":[DecisionTreeClassifier(max_depth=1, random_state=1),DecisionTreeClassifier(max_depth=2, random_state=1),DecisionTreeClassifier(max_depth=3, random_state=1)],\n",
        "    \"n_estimators\": np.arange(10,110,10),\n",
        "    \"learning_rate\":np.arange(0.1,2,0.1)\n",
        "}\n",
        "\n",
        "# Type of scoring used to compare parameter combinations\n",
        "acc_scorer = metrics.make_scorer(metrics.recall_score)\n",
        "\n",
        "# Run the grid search\n",
        "grid_obj = GridSearchCV(abc_tuned, parameters, scoring=acc_scorer,cv=5)\n",
        "grid_obj = grid_obj.fit(X_train, y_train)\n",
        "\n",
        "# Set the clf to the best combination of parameters\n",
        "abc_tuned = grid_obj.best_estimator_\n",
        "\n",
        "# Fit the best algorithm to the data.\n",
        "abc_tuned.fit(X_train, y_train)"
      ]
    },
    {
      "cell_type": "code",
      "execution_count": null,
      "metadata": {
        "id": "ScHnS6tZPMWx",
        "outputId": "06e3d366-d53d-4b59-8935-fdb1fddd4f02"
      },
      "outputs": [
        {
          "name": "stdout",
          "output_type": "stream",
          "text": [
            "Accuracy on training set :  0.8857142857142857\n",
            "Accuracy on test set :  0.6766666666666666\n",
            "Recall on training set :  0.7904761904761904\n",
            "Recall on test set :  0.45555555555555555\n",
            "Precision on training set :  0.8217821782178217\n",
            "Precision on test set :  0.4606741573033708\n"
          ]
        }
      ],
      "source": [
        "#Using above defined function to get accuracy, recall and precision on train and test set\n",
        "abc_tuned_score=get_metrics_score(abc_tuned)"
      ]
    },
    {
      "cell_type": "code",
      "execution_count": null,
      "metadata": {
        "id": "MssubhFLPMWx",
        "outputId": "ce2fe9d7-15d6-42bd-9a41-5bc7e7919b55"
      },
      "outputs": [
        {
          "data": {
            "image/png": "[encoded data removed]",
            "text/plain": [
              "<Figure size 720x504 with 2 Axes>"
            ]
          },
          "metadata": {
            "needs_background": "light"
          },
          "output_type": "display_data"
        }
      ],
      "source": [
        "make_confusion_matrix(abc_tuned,y_test)"
      ]
    },
    {
      "cell_type": "markdown",
      "metadata": {
        "id": "SSB6W8T9PMWy"
      },
      "source": [
        "### Insights\n",
        "- The model is overfitting the train data as train accuracy is much higher than the test accuracy.\n",
        "- The model has low test recall. This implies that the model is not good at identifying defaulters."
      ]
    },
    {
      "cell_type": "code",
      "execution_count": null,
      "metadata": {
        "id": "VRPR_9a1PMWy",
        "outputId": "ab36a0c3-2d89-4784-fe8b-4e00d29bbb1f"
      },
      "outputs": [
        {
          "data": {
            "image/png": "[encoded data removed]",
            "text/plain": [
              "<Figure size 864x864 with 1 Axes>"
            ]
          },
          "metadata": {
            "needs_background": "light"
          },
          "output_type": "display_data"
        }
      ],
      "source": [
        "importances = abc_tuned.feature_importances_\n",
        "indices = np.argsort(importances)\n",
        "feature_names = list(X.columns)\n",
        "\n",
        "plt.figure(figsize=(12,12))\n",
        "plt.title('Feature Importances')\n",
        "plt.barh(range(len(indices)), importances[indices], color='violet', align='center')\n",
        "plt.yticks(range(len(indices)), [feature_names[i] for i in indices])\n",
        "plt.xlabel('Relative Importance')\n",
        "plt.show()"
      ]
    },
    {
      "cell_type": "markdown",
      "metadata": {
        "id": "NUdliIhSPMWy"
      },
      "source": [
        "- Amount is the most important feature as per the tuned AdaBoost model."
      ]
    },
    {
      "cell_type": "markdown",
      "metadata": {
        "id": "Wq0YcT-hPMWy"
      },
      "source": [
        "### Gradient Boosting Classifier"
      ]
    },
    {
      "cell_type": "markdown",
      "metadata": {
        "id": "7laWNVmfPMWy"
      },
      "source": [
        "- Most of the hyperparameters available are same as random forest classifier.\n",
        "- init: An estimator object that is used to compute the initial predictions. If ‘zero’, the initial raw predictions are set to zero. By default, a DummyEstimator predicting the classes priors is used.\n",
        "- There is no class_weights parameter in gradient boosting."
      ]
    },
    {
      "cell_type": "markdown",
      "metadata": {
        "id": "khCJTeoxPMWy"
      },
      "source": [
        "**Let's try using AdaBoost classifier as the estimator for initial predictions**"
      ]
    },
    {
      "cell_type": "code",
      "execution_count": null,
      "metadata": {
        "id": "LbWCsM09PMWy",
        "outputId": "9726d1b2-e4ad-4c03-a2e6-0d09f03bf040"
      },
      "outputs": [
        {
          "data": {
            "text/plain": [
              "GradientBoostingClassifier(init=AdaBoostClassifier(random_state=1),\n",
              "                           random_state=1)"
            ]
          },
          "execution_count": 31,
          "metadata": {},
          "output_type": "execute_result"
        }
      ],
      "source": [
        "gbc_init = GradientBoostingClassifier(init=AdaBoostClassifier(random_state=1),random_state=1)\n",
        "gbc_init.fit(X_train,y_train)"
      ]
    },
    {
      "cell_type": "code",
      "execution_count": null,
      "metadata": {
        "id": "PEuHcJFWPMWz",
        "outputId": "475e9a16-7db6-42b8-a4d9-2463a7cc2373"
      },
      "outputs": [
        {
          "name": "stdout",
          "output_type": "stream",
          "text": [
            "Accuracy on training set :  0.9157142857142857\n",
            "Accuracy on test set :  0.7433333333333333\n",
            "Recall on training set :  0.7571428571428571\n",
            "Recall on test set :  0.4444444444444444\n",
            "Precision on training set :  0.9520958083832335\n",
            "Precision on test set :  0.5970149253731343\n"
          ]
        }
      ],
      "source": [
        "#Using above defined function to get accuracy, recall and precision on train and test set\n",
        "gbc_init_score=get_metrics_score(gbc_init)"
      ]
    },
    {
      "cell_type": "markdown",
      "metadata": {
        "id": "4Bok7fZnPMWz"
      },
      "source": [
        "**As compared to the model with default parameters:**\n",
        "\n",
        "- Test accuracy and test recall have increased slightly.\n",
        "- As we are getting better results, we will use init = AdaBoostClassifier() to tune the gradient boosting model."
      ]
    },
    {
      "cell_type": "code",
      "execution_count": null,
      "metadata": {
        "scrolled": true,
        "id": "6XHRzQ80PMWz",
        "outputId": "709403da-d85b-4b60-b21e-8d4a078721cf"
      },
      "outputs": [
        {
          "data": {
            "text/plain": [
              "GradientBoostingClassifier(init=AdaBoostClassifier(random_state=1),\n",
              "                           max_features=0.7, n_estimators=150, random_state=1,\n",
              "                           subsample=1)"
            ]
          },
          "execution_count": 33,
          "metadata": {},
          "output_type": "execute_result"
        }
      ],
      "source": [
        "# Choose the type of classifier.\n",
        "gbc_tuned = GradientBoostingClassifier(init=AdaBoostClassifier(random_state=1),random_state=1)\n",
        "\n",
        "# Grid of parameters to choose from\n",
        "## add from article\n",
        "parameters = {\n",
        "    \"n_estimators\": [100,150,200,250],\n",
        "    \"subsample\":[0.8,0.9,1],\n",
        "    \"max_features\":[0.7,0.8,0.9,1]\n",
        "}\n",
        "\n",
        "# Type of scoring used to compare parameter combinations\n",
        "acc_scorer = metrics.make_scorer(metrics.recall_score)\n",
        "\n",
        "# Run the grid search\n",
        "grid_obj = GridSearchCV(gbc_tuned, parameters, scoring=acc_scorer,cv=5)\n",
        "grid_obj = grid_obj.fit(X_train, y_train)\n",
        "\n",
        "# Set the clf to the best combination of parameters\n",
        "gbc_tuned = grid_obj.best_estimator_\n",
        "\n",
        "# Fit the best algorithm to the data.\n",
        "gbc_tuned.fit(X_train, y_train)"
      ]
    },
    {
      "cell_type": "code",
      "execution_count": null,
      "metadata": {
        "id": "2S7WnlcOPMWz",
        "outputId": "1d96b91b-57e4-4003-bf29-280b40a3e528"
      },
      "outputs": [
        {
          "name": "stdout",
          "output_type": "stream",
          "text": [
            "Accuracy on training set :  0.94\n",
            "Accuracy on test set :  0.75\n",
            "Recall on training set :  0.819047619047619\n",
            "Recall on test set :  0.4777777777777778\n",
            "Precision on training set :  0.9772727272727273\n",
            "Precision on test set :  0.6056338028169014\n"
          ]
        }
      ],
      "source": [
        "#Using above defined function to get accuracy, recall and precision on train and test set\n",
        "gbc_tuned_score=get_metrics_score(gbc_tuned)"
      ]
    },
    {
      "cell_type": "code",
      "execution_count": null,
      "metadata": {
        "id": "wfFz4p8uPMWz",
        "outputId": "d73a9341-77ed-46d9-a19b-f73c88f2348f"
      },
      "outputs": [
        {
          "data": {
            "image/png": "[encoded data removed]",
            "text/plain": [
              "<Figure size 720x504 with 2 Axes>"
            ]
          },
          "metadata": {
            "needs_background": "light"
          },
          "output_type": "display_data"
        }
      ],
      "source": [
        "make_confusion_matrix(gbc_tuned,y_test)"
      ]
    },
    {
      "cell_type": "markdown",
      "metadata": {
        "id": "AjkkPifQPMWz"
      },
      "source": [
        "### Insights\n",
        "- The model performace has not increased by much.\n",
        "- The model has started to overfit the train data in terms of recall.\n",
        "- It is better at identifying non-defaulters than identifying defaulters which is the opposite of the result we need."
      ]
    },
    {
      "cell_type": "code",
      "execution_count": null,
      "metadata": {
        "id": "OKpQH_arPMW0",
        "outputId": "bae9b721-3f61-4bf7-901b-bf24f10cb823"
      },
      "outputs": [
        {
          "data": {
            "image/png": "[encoded data removed]",
            "text/plain": [
              "<Figure size 864x864 with 1 Axes>"
            ]
          },
          "metadata": {
            "needs_background": "light"
          },
          "output_type": "display_data"
        }
      ],
      "source": [
        "importances = gbc_tuned.feature_importances_\n",
        "indices = np.argsort(importances)\n",
        "feature_names = list(X.columns)\n",
        "\n",
        "plt.figure(figsize=(12,12))\n",
        "plt.title('Feature Importances')\n",
        "plt.barh(range(len(indices)), importances[indices], color='violet', align='center')\n",
        "plt.yticks(range(len(indices)), [feature_names[i] for i in indices])\n",
        "plt.xlabel('Relative Importance')\n",
        "plt.show()"
      ]
    },
    {
      "cell_type": "markdown",
      "metadata": {
        "id": "s9tiR8ajPMW0"
      },
      "source": [
        "- Amount is the most important feature, followed by loan duration and age, as per the tuned gradient boosting model"
      ]
    },
    {
      "cell_type": "markdown",
      "metadata": {
        "id": "mPnZyY_OPMW0"
      },
      "source": [
        "### XGBoost Classifier"
      ]
    },
    {
      "cell_type": "markdown",
      "metadata": {
        "id": "e7c-TNWPPMW0"
      },
      "source": [
        "**XGBoost has many hyper parameters which can be tuned to increase the model performance. You can read about them in the xgboost documentation [here](https://xgboost.readthedocs.io/en/latest/parameter.html#general-parameters). Some of the important parameters are:**\n",
        "- scale_pos_weight:Control the balance of positive and negative weights, useful for unbalanced classes. It has range from 0 to $\\infty$.\n",
        "- subsample: Corresponds to the fraction of observations (the rows) to subsample at each step. By default it is set to 1 meaning that we use all rows.\n",
        "- colsample_bytree: Corresponds to the fraction of features (the columns) to use.\n",
        "- colsample_bylevel: The subsample ratio of columns for each level. Columns are subsampled from the set of columns chosen for the current tree.\n",
        "- colsample_bynode: The subsample ratio of columns for each node (split). Columns are subsampled from the set of columns chosen for the current level.\n",
        "- max_depth: is the maximum number of nodes allowed from the root to the farthest leaf of a tree.\n",
        "- learning_rate/eta: Makes the model more robust by shrinking the weights on each step.\n",
        "- gamma: A node is split only when the resulting split gives a positive reduction in the loss function. Gamma specifies the minimum loss reduction required to make a split."
      ]
    },
    {
      "cell_type": "code",
      "execution_count": null,
      "metadata": {
        "id": "3TDCVAHuPMW0",
        "outputId": "c9c40eea-cae9-4e42-936d-466769662246"
      },
      "outputs": [
        {
          "data": {
            "text/plain": [
              "XGBClassifier(base_score=0.5, booster='gbtree', colsample_bylevel=0.5,\n",
              "              colsample_bynode=1, colsample_bytree=0.5,\n",
              "              enable_categorical=False, eval_metric='logloss', gamma=3,\n",
              "              gpu_id=-1, importance_type=None, interaction_constraints='',\n",
              "              learning_rate=0.01, max_delta_step=0, max_depth=6,\n",
              "              min_child_weight=1, missing=nan, monotone_constraints='()',\n",
              "              n_estimators=50, n_jobs=8, num_parallel_tree=1, predictor='auto',\n",
              "              random_state=1, reg_alpha=0, reg_lambda=1, scale_pos_weight=5,\n",
              "              subsample=1, tree_method='exact', validate_parameters=1,\n",
              "              verbosity=None)"
            ]
          },
          "execution_count": 37,
          "metadata": {},
          "output_type": "execute_result"
        }
      ],
      "source": [
        "# Choose the type of classifier.\n",
        "xgb_tuned = XGBClassifier(random_state=1,eval_metric='logloss')\n",
        "\n",
        "# Grid of parameters to choose from\n",
        "## add from\n",
        "parameters = {\n",
        "    \"n_estimators\": np.arange(10,100,20),\n",
        "    \"scale_pos_weight\":[0,1,2,5],\n",
        "    \"subsample\":[0.5,0.7,0.9,1],\n",
        "    \"learning_rate\":[0.01,0.1,0.2,0.05],\n",
        "    \"gamma\":[0,1,3],\n",
        "    \"colsample_bytree\":[0.5,0.7,0.9,1],\n",
        "    \"colsample_bylevel\":[0.5,0.7,0.9,1]\n",
        "}\n",
        "\n",
        "# Type of scoring used to compare parameter combinations\n",
        "acc_scorer = metrics.make_scorer(metrics.recall_score)\n",
        "\n",
        "# Run the grid search\n",
        "grid_obj = GridSearchCV(xgb_tuned, parameters,scoring=acc_scorer,cv=5)\n",
        "grid_obj = grid_obj.fit(X_train, y_train)\n",
        "\n",
        "# Set the clf to the best combination of parameters\n",
        "xgb_tuned = grid_obj.best_estimator_\n",
        "\n",
        "# Fit the best algorithm to the data.\n",
        "xgb_tuned.fit(X_train, y_train)"
      ]
    },
    {
      "cell_type": "code",
      "execution_count": null,
      "metadata": {
        "id": "bc30oRq5PMW0",
        "outputId": "7f14093f-8024-4442-fa57-3d4bbb294cbc"
      },
      "outputs": [
        {
          "name": "stdout",
          "output_type": "stream",
          "text": [
            "Accuracy on training set :  0.6942857142857143\n",
            "Accuracy on test set :  0.6166666666666667\n",
            "Recall on training set :  1.0\n",
            "Recall on test set :  0.9111111111111111\n",
            "Precision on training set :  0.49528301886792453\n",
            "Precision on test set :  0.43386243386243384\n"
          ]
        }
      ],
      "source": [
        "#Using above defined function to get accuracy, recall and precision on train and test set\n",
        "xgb_tuned_score=get_metrics_score(xgb_tuned)"
      ]
    },
    {
      "cell_type": "code",
      "execution_count": null,
      "metadata": {
        "id": "RRcmdRyMPMW0",
        "outputId": "a3e3c26e-9bb2-4a08-fc0d-f4a9dc5bfac1"
      },
      "outputs": [
        {
          "data": {
            "image/png": "[encoded data removed]",
            "text/plain": [
              "<Figure size 720x504 with 2 Axes>"
            ]
          },
          "metadata": {
            "needs_background": "light"
          },
          "output_type": "display_data"
        }
      ],
      "source": [
        "make_confusion_matrix(xgb_tuned,y_test)"
      ]
    },
    {
      "cell_type": "markdown",
      "metadata": {
        "id": "QPpgoa5ZPMW1"
      },
      "source": [
        "### Insights\n",
        "- The test accuracy of the model has reduced as compared to the model with default parameters but the recall has increased significantly and the model is able to identify most of the defaulters.\n",
        "- Decreasing number of false negatives has increased the number of false positives here.\n",
        "- The tuned model is not overfitting and generalizes well."
      ]
    },
    {
      "cell_type": "code",
      "execution_count": null,
      "metadata": {
        "id": "rn0eGqidPMW1",
        "outputId": "59916935-ee36-4b64-d160-6bd0ad83d025"
      },
      "outputs": [
        {
          "data": {
            "image/png": "[encoded data removed]",
            "text/plain": [
              "<Figure size 864x864 with 1 Axes>"
            ]
          },
          "metadata": {
            "needs_background": "light"
          },
          "output_type": "display_data"
        }
      ],
      "source": [
        "importances = xgb_tuned.feature_importances_\n",
        "indices = np.argsort(importances)\n",
        "feature_names = list(X.columns)\n",
        "\n",
        "plt.figure(figsize=(12,12))\n",
        "plt.title('Feature Importances')\n",
        "plt.barh(range(len(indices)), importances[indices], color='violet', align='center')\n",
        "plt.yticks(range(len(indices)), [feature_names[i] for i in indices])\n",
        "plt.xlabel('Relative Importance')\n",
        "plt.show()"
      ]
    },
    {
      "cell_type": "markdown",
      "metadata": {
        "id": "mTkmISCYPMW1"
      },
      "source": [
        "- Checking balance is the most important feature as per XGBoost model unlike AdaBoost and Gradient Boosting, where the most important feature is the amount."
      ]
    },
    {
      "cell_type": "markdown",
      "metadata": {
        "id": "usOztrnNPMW1"
      },
      "source": [
        "## Comparing all models"
      ]
    },
    {
      "cell_type": "code",
      "execution_count": null,
      "metadata": {
        "id": "JU0Qcv7_PMW1"
      },
      "outputs": [],
      "source": [
        "# defining list of models\n",
        "models = [abc, abc_tuned, gbc, gbc_init, gbc_tuned, xgb, xgb_tuned]\n",
        "\n",
        "# defining empty lists to add train and test results\n",
        "acc_train = []\n",
        "acc_test = []\n",
        "recall_train = []\n",
        "recall_test = []\n",
        "precision_train = []\n",
        "precision_test = []\n",
        "\n",
        "# looping through all the models to get the accuracy, precall and precision scores\n",
        "for model in models:\n",
        "    j = get_metrics_score(model,False)\n",
        "    acc_train.append(np.round(j[0],2))\n",
        "    acc_test.append(np.round(j[1],2))\n",
        "    recall_train.append(np.round(j[2],2))\n",
        "    recall_test.append(np.round(j[3],2))\n",
        "    precision_train.append(np.round(j[4],2))\n",
        "    precision_test.append(np.round(j[5],2))"
      ]
    },
    {
      "cell_type": "code",
      "execution_count": null,
      "metadata": {
        "id": "PLbgtxe6PMW1",
        "outputId": "e93ed4e8-546e-4296-bcc3-71c897b460a0"
      },
      "outputs": [
        {
          "data": {
            "text/html": [
              "<div>\n",
              "<style scoped>\n",
              "    .dataframe tbody tr th:only-of-type {\n",
              "        vertical-align: middle;\n",
              "    }\n",
              "\n",
              "    .dataframe tbody tr th {\n",
              "        vertical-align: top;\n",
              "    }\n",
              "\n",
              "    .dataframe thead th {\n",
              "        text-align: right;\n",
              "    }\n",
              "</style>\n",
              "<table border=\"1\" class=\"dataframe\">\n",
              "  <thead>\n",
              "    <tr style=\"text-align: right;\">\n",
              "      <th></th>\n",
              "      <th>Model</th>\n",
              "      <th>Train_Accuracy</th>\n",
              "      <th>Test_Accuracy</th>\n",
              "      <th>Train_Recall</th>\n",
              "      <th>Test_Recall</th>\n",
              "      <th>Train_Precision</th>\n",
              "      <th>Test_Precision</th>\n",
              "    </tr>\n",
              "  </thead>\n",
              "  <tbody>\n",
              "    <tr>\n",
              "      <th>0</th>\n",
              "      <td>AdaBoost with default paramters</td>\n",
              "      <td>0.80</td>\n",
              "      <td>0.77</td>\n",
              "      <td>0.59</td>\n",
              "      <td>0.56</td>\n",
              "      <td>0.70</td>\n",
              "      <td>0.62</td>\n",
              "    </tr>\n",
              "    <tr>\n",
              "      <th>1</th>\n",
              "      <td>AdaBoost Tuned</td>\n",
              "      <td>0.89</td>\n",
              "      <td>0.68</td>\n",
              "      <td>0.79</td>\n",
              "      <td>0.46</td>\n",
              "      <td>0.82</td>\n",
              "      <td>0.46</td>\n",
              "    </tr>\n",
              "    <tr>\n",
              "      <th>2</th>\n",
              "      <td>Gradient Boosting with default parameters</td>\n",
              "      <td>0.92</td>\n",
              "      <td>0.75</td>\n",
              "      <td>0.77</td>\n",
              "      <td>0.47</td>\n",
              "      <td>0.96</td>\n",
              "      <td>0.60</td>\n",
              "    </tr>\n",
              "    <tr>\n",
              "      <th>3</th>\n",
              "      <td>Gradient Boosting with init=AdaBoost</td>\n",
              "      <td>0.92</td>\n",
              "      <td>0.74</td>\n",
              "      <td>0.76</td>\n",
              "      <td>0.44</td>\n",
              "      <td>0.95</td>\n",
              "      <td>0.60</td>\n",
              "    </tr>\n",
              "    <tr>\n",
              "      <th>4</th>\n",
              "      <td>Gradient Boosting Tuned</td>\n",
              "      <td>0.94</td>\n",
              "      <td>0.75</td>\n",
              "      <td>0.82</td>\n",
              "      <td>0.48</td>\n",
              "      <td>0.98</td>\n",
              "      <td>0.61</td>\n",
              "    </tr>\n",
              "    <tr>\n",
              "      <th>5</th>\n",
              "      <td>XGBoost with default parameters</td>\n",
              "      <td>1.00</td>\n",
              "      <td>0.75</td>\n",
              "      <td>1.00</td>\n",
              "      <td>0.51</td>\n",
              "      <td>1.00</td>\n",
              "      <td>0.61</td>\n",
              "    </tr>\n",
              "    <tr>\n",
              "      <th>6</th>\n",
              "      <td>XGBoost Tuned</td>\n",
              "      <td>0.69</td>\n",
              "      <td>0.62</td>\n",
              "      <td>1.00</td>\n",
              "      <td>0.91</td>\n",
              "      <td>0.50</td>\n",
              "      <td>0.43</td>\n",
              "    </tr>\n",
              "  </tbody>\n",
              "</table>\n",
              "</div>"
            ],
            "text/plain": [
              "                                       Model  Train_Accuracy  Test_Accuracy  \\\n",
              "0            AdaBoost with default paramters            0.80           0.77   \n",
              "1                             AdaBoost Tuned            0.89           0.68   \n",
              "2  Gradient Boosting with default parameters            0.92           0.75   \n",
              "3       Gradient Boosting with init=AdaBoost            0.92           0.74   \n",
              "4                    Gradient Boosting Tuned            0.94           0.75   \n",
              "5            XGBoost with default parameters            1.00           0.75   \n",
              "6                              XGBoost Tuned            0.69           0.62   \n",
              "\n",
              "   Train_Recall  Test_Recall  Train_Precision  Test_Precision  \n",
              "0          0.59         0.56             0.70            0.62  \n",
              "1          0.79         0.46             0.82            0.46  \n",
              "2          0.77         0.47             0.96            0.60  \n",
              "3          0.76         0.44             0.95            0.60  \n",
              "4          0.82         0.48             0.98            0.61  \n",
              "5          1.00         0.51             1.00            0.61  \n",
              "6          1.00         0.91             0.50            0.43  "
            ]
          },
          "execution_count": 42,
          "metadata": {},
          "output_type": "execute_result"
        }
      ],
      "source": [
        "comparison_frame = pd.DataFrame({'Model':['AdaBoost with default paramters','AdaBoost Tuned',\n",
        "                                          'Gradient Boosting with default parameters','Gradient Boosting with init=AdaBoost',\n",
        "                                          'Gradient Boosting Tuned','XGBoost with default parameters','XGBoost Tuned'],\n",
        "                                          'Train_Accuracy': acc_train,'Test_Accuracy': acc_test,\n",
        "                                          'Train_Recall':recall_train,'Test_Recall':recall_test,\n",
        "                                          'Train_Precision':precision_train,'Test_Precision':precision_test})\n",
        "comparison_frame"
      ]
    },
    {
      "cell_type": "markdown",
      "metadata": {
        "id": "jvz8UUUePMW1"
      },
      "source": [
        "### Remark:\n",
        "- A `Cost Function` quantifies the error between predicted values and expected values and presents it in the form of a single real number.\n",
        "- The bank can choose a model depending on their cost function which they want to minimize. The cost function can depend on the geographical and economical conditions due to changes in interest rates, government rules etc.\n",
        "- Bank's main aim would be to balance the trade off between losing an opportunity (to gain money by giving loans) in case of FP and losing the money in case of FN.\n",
        "- We emphasized that recall is the metric of interest here and we tuned our model on recall. But this does not mean that other metrics should be ignored completely.\n",
        "- Here, we assumed that the $cost\\ on\\ FN>cost\\ on\\ FP$, but we do not want to misclassify so many non-defaulters that the equation is reversed i.e. $cost\\ on\\ FP>cost\\ on\\ FN$, hence, the bank will actually be losing money in the longer run.\n",
        "- `For example:` Let's say a bank gains 4% interest on the amount while giving loans to non-defaulters and lose 70% on the amount while giving loans to defaulters and also assume that the amount of loan is also fixed. Let's say we use a model which is only good at identifying defaulters and we get the following result:\n",
        "    - The model identifies 10 out of 10 defaulters\n",
        "    - The model identifies 10 out of 190 non-defaulters i.e. misclassified 180 non-defaulters\n",
        "    - Then, the money saved is $0.7*10*amount=7*amount$ and the money lost is $0.04*180*amount=7.2*amount$\n",
        "    - As the value of money lost is greater than the value of money saved, bank will actually lose money even after identifying all defaulters"
      ]
    }
  ],
  "metadata": {
    "colab": {
      "provenance": []
    },
    "kernelspec": {
      "display_name": "Python 3",
      "language": "python",
      "name": "python3"
    },
    "language_info": {
      "codemirror_mode": {
        "name": "ipython",
        "version": 3
      },
      "file_extension": ".py",
      "mimetype": "text/x-python",
      "name": "python",
      "nbconvert_exporter": "python",
      "pygments_lexer": "ipython3",
      "version": "3.8.8"
    }
  },
  "nbformat": 4,
  "nbformat_minor": 0
}