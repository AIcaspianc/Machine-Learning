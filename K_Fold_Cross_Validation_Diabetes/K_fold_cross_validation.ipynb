{
  "cells": [
    {
      "cell_type": "markdown",
      "metadata": {
        "id": "WKmIYOZ_bVh3"
      },
      "source": [
        "# K fold cross validation\n",
        "\n",
        "## Context\n",
        "\n",
        "One of the most common diseases in the world, diabetes is becoming more and more common among sufferers. Although the exact aetiology of diabetes is still unknown, researchers think that environmental lifestyle factors and genetics both contribute significantly to the disease.\n",
        "\n",
        "Diabetes increases the chance of acquiring certain secondary health problems, including heart disease and nerve damage. Therefore, diabetes can be detected and treated early to avoid complications and lower the chance of developing serious health issues.\n",
        "Despite being incurable, medicines and treatment can help manage it.\n",
        "\n",
        "In order to better understand this disease in women, researchers at the Bio-Solutions lab intend to detect patients who are at risk of diabetes by using machine learning models.\n",
        "\n",
        "To learn how to do cross validation on the train set and how to interpret the results, we will utilise the PIMA Indian Diabetes Dataset.\n",
        "\n",
        "\n",
        "## Data Dictionary\n",
        "\n",
        "* Pregnancies: Number of times pregnant\n",
        "* Glucose: Plasma glucose concentration over 2 hours in an oral glucose tolerance test\n",
        "* BloodPressure: Diastolic blood pressure (mm Hg)\n",
        "* SkinThickness: Triceps skinfold thickness (mm)\n",
        "* Insulin: 2-Hour serum insulin (mu U/ml)\n",
        "* BMI: Body mass index (weight in kg/(height in m)^2)\n",
        "* Pedigree: Diabetes pedigree function - A function that scores likelihood of diabetes based on family history.\n",
        "* Age: Age in years\n",
        "* Class: Class variable (0: the person is not diabetic or 1: the person is diabetic)\n",
        "\n",
        "\n",
        "\n",
        "## Import libraries"
      ]
    },
    {
      "cell_type": "code",
      "execution_count": null,
      "metadata": {
        "id": "L3ta4YUjbVh5"
      },
      "outputs": [],
      "source": [
        "# to work with dataframes\n",
        "import pandas as pd\n",
        "import numpy as np\n",
        "\n",
        "# to split data into train and test\n",
        "from sklearn.model_selection import train_test_split\n",
        "\n",
        "# to build logstic regression model\n",
        "from sklearn.linear_model import LogisticRegression\n",
        "\n",
        "# to create k folds of data and get cross validation score\n",
        "from sklearn.model_selection import KFold\n",
        "from sklearn.model_selection import cross_val_score\n",
        "\n",
        "# to ignore warnings\n",
        "import warnings\n",
        "warnings.filterwarnings('ignore')"
      ]
    },
    {
      "cell_type": "markdown",
      "metadata": {
        "id": "xNRbTabMbVh6"
      },
      "source": [
        "## Load and view dataset"
      ]
    },
    {
      "cell_type": "code",
      "execution_count": null,
      "metadata": {
        "id": "UQX3Q978bVh6",
        "outputId": "a479b11b-c178-4d7b-c662-9ee62bc5e31a"
      },
      "outputs": [
        {
          "data": {
            "text/html": [
              "<div>\n",
              "<style scoped>\n",
              "    .dataframe tbody tr th:only-of-type {\n",
              "        vertical-align: middle;\n",
              "    }\n",
              "\n",
              "    .dataframe tbody tr th {\n",
              "        vertical-align: top;\n",
              "    }\n",
              "\n",
              "    .dataframe thead th {\n",
              "        text-align: right;\n",
              "    }\n",
              "</style>\n",
              "<table border=\"1\" class=\"dataframe\">\n",
              "  <thead>\n",
              "    <tr style=\"text-align: right;\">\n",
              "      <th></th>\n",
              "      <th>Pregnancies</th>\n",
              "      <th>Glucose</th>\n",
              "      <th>BloodPressure</th>\n",
              "      <th>SkinThickness</th>\n",
              "      <th>Insulin</th>\n",
              "      <th>BMI</th>\n",
              "      <th>Pedigree</th>\n",
              "      <th>Age</th>\n",
              "      <th>Class</th>\n",
              "    </tr>\n",
              "  </thead>\n",
              "  <tbody>\n",
              "    <tr>\n",
              "      <th>0</th>\n",
              "      <td>6</td>\n",
              "      <td>148</td>\n",
              "      <td>72</td>\n",
              "      <td>35</td>\n",
              "      <td>0</td>\n",
              "      <td>33.6</td>\n",
              "      <td>0.627</td>\n",
              "      <td>50</td>\n",
              "      <td>1</td>\n",
              "    </tr>\n",
              "    <tr>\n",
              "      <th>1</th>\n",
              "      <td>1</td>\n",
              "      <td>85</td>\n",
              "      <td>66</td>\n",
              "      <td>29</td>\n",
              "      <td>0</td>\n",
              "      <td>26.6</td>\n",
              "      <td>0.351</td>\n",
              "      <td>31</td>\n",
              "      <td>0</td>\n",
              "    </tr>\n",
              "    <tr>\n",
              "      <th>2</th>\n",
              "      <td>8</td>\n",
              "      <td>183</td>\n",
              "      <td>64</td>\n",
              "      <td>0</td>\n",
              "      <td>0</td>\n",
              "      <td>23.3</td>\n",
              "      <td>0.672</td>\n",
              "      <td>32</td>\n",
              "      <td>1</td>\n",
              "    </tr>\n",
              "    <tr>\n",
              "      <th>3</th>\n",
              "      <td>1</td>\n",
              "      <td>89</td>\n",
              "      <td>66</td>\n",
              "      <td>23</td>\n",
              "      <td>94</td>\n",
              "      <td>28.1</td>\n",
              "      <td>0.167</td>\n",
              "      <td>21</td>\n",
              "      <td>0</td>\n",
              "    </tr>\n",
              "    <tr>\n",
              "      <th>4</th>\n",
              "      <td>0</td>\n",
              "      <td>137</td>\n",
              "      <td>40</td>\n",
              "      <td>35</td>\n",
              "      <td>168</td>\n",
              "      <td>43.1</td>\n",
              "      <td>2.288</td>\n",
              "      <td>33</td>\n",
              "      <td>1</td>\n",
              "    </tr>\n",
              "  </tbody>\n",
              "</table>\n",
              "</div>"
            ],
            "text/plain": [
              "   Pregnancies  Glucose  BloodPressure  SkinThickness  Insulin   BMI  \\\n",
              "0            6      148             72             35        0  33.6   \n",
              "1            1       85             66             29        0  26.6   \n",
              "2            8      183             64              0        0  23.3   \n",
              "3            1       89             66             23       94  28.1   \n",
              "4            0      137             40             35      168  43.1   \n",
              "\n",
              "   Pedigree  Age  Class  \n",
              "0     0.627   50      1  \n",
              "1     0.351   31      0  \n",
              "2     0.672   32      1  \n",
              "3     0.167   21      0  \n",
              "4     2.288   33      1  "
            ]
          },
          "execution_count": 3,
          "metadata": {},
          "output_type": "execute_result"
        }
      ],
      "source": [
        "df = pd.read_csv('pima-indians-diabetes.csv')\n",
        "\n",
        "df.head()"
      ]
    },
    {
      "cell_type": "code",
      "execution_count": null,
      "metadata": {
        "id": "cUJ5Pg3NbVh7"
      },
      "outputs": [],
      "source": [
        "# separating data into X and Y\n",
        "X = df.drop(['Class'], axis = 1)\n",
        "Y = df['Class']"
      ]
    },
    {
      "cell_type": "code",
      "execution_count": null,
      "metadata": {
        "id": "xcvMBafUbVh7"
      },
      "outputs": [],
      "source": [
        "# creating train and test sets\n",
        "X_train, X_test, Y_train, Y_test = train_test_split(X, Y, test_size=0.30, random_state=1, stratify = Y)"
      ]
    },
    {
      "cell_type": "code",
      "execution_count": null,
      "metadata": {
        "id": "s51sGJPQbVh7"
      },
      "outputs": [],
      "source": [
        "# defining kfold\n",
        "kfold = KFold(n_splits=10, random_state=1, shuffle = True)\n",
        "\n",
        "# number of splits = 10"
      ]
    },
    {
      "cell_type": "code",
      "execution_count": null,
      "metadata": {
        "id": "SZ7jEhphbVh7"
      },
      "outputs": [],
      "source": [
        "# defining the model\n",
        "model = LogisticRegression(random_state = 1)\n",
        "\n",
        "# storing accuracy values of model for every fold in \"results\"\n",
        "results = cross_val_score(model, X_train, Y_train, cv=kfold, scoring='accuracy')"
      ]
    },
    {
      "cell_type": "code",
      "execution_count": null,
      "metadata": {
        "id": "RntHiyn9bVh7",
        "outputId": "1db32cfa-52b4-46f7-bede-d363de5799a9"
      },
      "outputs": [
        {
          "name": "stdout",
          "output_type": "stream",
          "text": [
            "[0.77777778 0.81481481 0.81481481 0.83333333 0.72222222 0.85185185\n",
            " 0.74074074 0.66037736 0.77358491 0.79245283]\n"
          ]
        }
      ],
      "source": [
        "# let's see the value of accuracy for every fold\n",
        "print(results)"
      ]
    },
    {
      "cell_type": "code",
      "execution_count": null,
      "metadata": {
        "id": "JpONwuW4bVh7",
        "outputId": "9e64e48c-abea-4c8c-e1e6-f558f312d18b"
      },
      "outputs": [
        {
          "name": "stdout",
          "output_type": "stream",
          "text": [
            "Accuracy: 77.820% (5.458%)\n"
          ]
        }
      ],
      "source": [
        "# let's see the mean accuracy score\n",
        "print(\"Accuracy: %.3f%% (%.3f%%)\" % (results.mean()*100.0, results.std()*100.0))"
      ]
    },
    {
      "cell_type": "markdown",
      "metadata": {
        "id": "WoYTJn9sbVh8"
      },
      "source": [
        "## Interpretation of scores\n",
        "- Mean accuracy is 77.82% with a standard deviation of 5.46%\n",
        "- So, we can say that the accuracy on any unseen data will lie between 72.4 (mean - standard deviation) and 83.3 (mean + standard deviation) with a confidence of 67%."
      ]
    }
  ],
  "metadata": {
    "kernelspec": {
      "display_name": "Python 3",
      "language": "python",
      "name": "python3"
    },
    "language_info": {
      "codemirror_mode": {
        "name": "ipython",
        "version": 3
      },
      "file_extension": ".py",
      "mimetype": "text/x-python",
      "name": "python",
      "nbconvert_exporter": "python",
      "pygments_lexer": "ipython3",
      "version": "3.8.3"
    },
    "colab": {
      "provenance": []
    }
  },
  "nbformat": 4,
  "nbformat_minor": 0
}