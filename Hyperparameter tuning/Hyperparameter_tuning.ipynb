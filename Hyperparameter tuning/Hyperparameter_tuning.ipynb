{
  "nbformat": 4,
  "nbformat_minor": 0,
  "metadata": {
    "colab": {
      "provenance": []
    },
    "kernelspec": {
      "display_name": "Python 3",
      "language": "python",
      "name": "python3"
    },
    "language_info": {
      "codemirror_mode": {
        "name": "ipython",
        "version": 3
      },
      "file_extension": ".py",
      "mimetype": "text/x-python",
      "name": "python",
      "nbconvert_exporter": "python",
      "pygments_lexer": "ipython3",
      "version": "3.8.3"
    }
  },
  "cells": [
    {
      "cell_type": "markdown",
      "metadata": {
        "id": "ZEf0c6yOq9Rh"
      },
      "source": [
        "## Context\n",
        "\n",
        "Banks incur significant losses due to default in loans. This has led to a tightening up of loan underwriting and has increased loan rejection rates. The need for a better credit risk scoring model is also raised by banks.\n",
        "\n",
        "The CNK bank has collected customer data for the past few years and wants to build a model to predict if a customer coming to purchase a loan is a good customer (will not default) or a bad customer (will default).\n",
        "\n",
        "\n",
        "## Data Dictionary\n",
        "\n",
        "- month - the month of purchase\n",
        "- credit_amount - amount for which loan is requested\n",
        "- credit_term - for how long customer wants a loan\n",
        "- age - age of the customer\n",
        "- sex - gender of the customer\n",
        "- education - education level of customer\n",
        "- product_type - for purchasing what type of product does the customer need a loan (0, 1, 2, 3, 4)\n",
        "- having_children_flg - if the customer has children or not\n",
        "- region - customer region category(0, 1, 2)\n",
        "- income - income of the customer\n",
        "- family_status - another, married, unmarried\n",
        "- phone_operator - mobile operator category(0, 1, 2, 3)\n",
        "- is_client - if the customer wanting to purchase a loan is our client or not\n",
        "- target - 1-bad customer, 0-good customer\n",
        "\n",
        "\n"
      ]
    },
    {
      "cell_type": "markdown",
      "metadata": {
        "id": "wnxGmBkvq9Rj"
      },
      "source": [
        "## Import Libraries"
      ]
    },
    {
      "cell_type": "code",
      "metadata": {
        "id": "UK2k3Mg-q9Rj"
      },
      "source": [
        "# To help with reading and manipulation of data\n",
        "import numpy as np\n",
        "import pandas as pd\n",
        "\n",
        "# To help with data visualization\n",
        "import matplotlib.pyplot as plt\n",
        "import seaborn as sns\n",
        "\n",
        "# To split the data\n",
        "from sklearn.model_selection import train_test_split\n",
        "\n",
        "# To impute missing values\n",
        "from sklearn.impute import SimpleImputer\n",
        "\n",
        "# To build a Random forest classifier\n",
        "from sklearn.ensemble import RandomForestClassifier\n",
        "\n",
        "# To tune a model\n",
        "from sklearn.model_selection import GridSearchCV\n",
        "from sklearn.model_selection import RandomizedSearchCV\n",
        "\n",
        "# To get different performance metrics\n",
        "import sklearn.metrics as metrics\n",
        "from sklearn.metrics import (\n",
        "    classification_report,\n",
        "    confusion_matrix,\n",
        "    recall_score,\n",
        "    accuracy_score,\n",
        "    precision_score,\n",
        "    f1_score,\n",
        ")\n",
        "\n",
        "# To suppress warnings\n",
        "import warnings\n",
        "\n",
        "warnings.filterwarnings(\"ignore\")"
      ],
      "execution_count": null,
      "outputs": []
    },
    {
      "cell_type": "markdown",
      "metadata": {
        "id": "BhNJ3tawq9Rk"
      },
      "source": [
        "## Load and view dataset"
      ]
    },
    {
      "cell_type": "code",
      "metadata": {
        "id": "a7ck33gHq9Rk",
        "outputId": "39ec123e-dc64-4741-ef22-279552efcae7"
      },
      "source": [
        "df = pd.read_csv(\"Loanclients-1.csv\")"
      ],
      "execution_count": null,
      "outputs": [
        {
          "data": {
            "application/javascript": [
              "\n",
              "            setTimeout(function() {\n",
              "                var nbb_cell_id = 3;\n",
              "                var nbb_unformatted_code = \"df = pd.read_csv(\\\"Loanclients.csv\\\")\";\n",
              "                var nbb_formatted_code = \"df = pd.read_csv(\\\"Loanclients.csv\\\")\";\n",
              "                var nbb_cells = Jupyter.notebook.get_cells();\n",
              "                for (var i = 0; i < nbb_cells.length; ++i) {\n",
              "                    if (nbb_cells[i].input_prompt_number == nbb_cell_id) {\n",
              "                        if (nbb_cells[i].get_text() == nbb_unformatted_code) {\n",
              "                             nbb_cells[i].set_text(nbb_formatted_code);\n",
              "                        }\n",
              "                        break;\n",
              "                    }\n",
              "                }\n",
              "            }, 500);\n",
              "            "
            ],
            "text/plain": [
              "<IPython.core.display.Javascript object>"
            ]
          },
          "metadata": {},
          "output_type": "display_data"
        }
      ]
    },
    {
      "cell_type": "code",
      "metadata": {
        "id": "iRePnbBq5cJd",
        "outputId": "c89bf037-07c3-4213-c6ec-8075943ae91e"
      },
      "source": [
        "data = df.copy()"
      ],
      "execution_count": null,
      "outputs": [
        {
          "data": {
            "application/javascript": [
              "\n",
              "            setTimeout(function() {\n",
              "                var nbb_cell_id = 4;\n",
              "                var nbb_unformatted_code = \"data = df.copy()\";\n",
              "                var nbb_formatted_code = \"data = df.copy()\";\n",
              "                var nbb_cells = Jupyter.notebook.get_cells();\n",
              "                for (var i = 0; i < nbb_cells.length; ++i) {\n",
              "                    if (nbb_cells[i].input_prompt_number == nbb_cell_id) {\n",
              "                        if (nbb_cells[i].get_text() == nbb_unformatted_code) {\n",
              "                             nbb_cells[i].set_text(nbb_formatted_code);\n",
              "                        }\n",
              "                        break;\n",
              "                    }\n",
              "                }\n",
              "            }, 500);\n",
              "            "
            ],
            "text/plain": [
              "<IPython.core.display.Javascript object>"
            ]
          },
          "metadata": {},
          "output_type": "display_data"
        }
      ]
    },
    {
      "cell_type": "code",
      "metadata": {
        "id": "Fu9Ni_Kk5cJe",
        "outputId": "a201a7b2-1693-4a7c-e435-a28b090842e2"
      },
      "source": [
        "data.head()"
      ],
      "execution_count": null,
      "outputs": [
        {
          "data": {
            "text/html": [
              "<div>\n",
              "<style scoped>\n",
              "    .dataframe tbody tr th:only-of-type {\n",
              "        vertical-align: middle;\n",
              "    }\n",
              "\n",
              "    .dataframe tbody tr th {\n",
              "        vertical-align: top;\n",
              "    }\n",
              "\n",
              "    .dataframe thead th {\n",
              "        text-align: right;\n",
              "    }\n",
              "</style>\n",
              "<table border=\"1\" class=\"dataframe\">\n",
              "  <thead>\n",
              "    <tr style=\"text-align: right;\">\n",
              "      <th></th>\n",
              "      <th>Month</th>\n",
              "      <th>credit_amount</th>\n",
              "      <th>credit_term</th>\n",
              "      <th>Age</th>\n",
              "      <th>sex</th>\n",
              "      <th>education</th>\n",
              "      <th>product_type</th>\n",
              "      <th>having_children_flg</th>\n",
              "      <th>region</th>\n",
              "      <th>income</th>\n",
              "      <th>family_status</th>\n",
              "      <th>phone_operator</th>\n",
              "      <th>is_client</th>\n",
              "      <th>target</th>\n",
              "    </tr>\n",
              "  </thead>\n",
              "  <tbody>\n",
              "    <tr>\n",
              "      <th>0</th>\n",
              "      <td>10</td>\n",
              "      <td>7000</td>\n",
              "      <td>6</td>\n",
              "      <td>25</td>\n",
              "      <td>0</td>\n",
              "      <td>Secondary special education</td>\n",
              "      <td>1</td>\n",
              "      <td>0</td>\n",
              "      <td>0</td>\n",
              "      <td>21000.0</td>\n",
              "      <td>1</td>\n",
              "      <td>0</td>\n",
              "      <td>0</td>\n",
              "      <td>0</td>\n",
              "    </tr>\n",
              "    <tr>\n",
              "      <th>1</th>\n",
              "      <td>10</td>\n",
              "      <td>19000</td>\n",
              "      <td>3</td>\n",
              "      <td>54</td>\n",
              "      <td>0</td>\n",
              "      <td>Secondary special education</td>\n",
              "      <td>3</td>\n",
              "      <td>1</td>\n",
              "      <td>1</td>\n",
              "      <td>17000.0</td>\n",
              "      <td>1</td>\n",
              "      <td>3</td>\n",
              "      <td>0</td>\n",
              "      <td>0</td>\n",
              "    </tr>\n",
              "    <tr>\n",
              "      <th>2</th>\n",
              "      <td>1</td>\n",
              "      <td>29000</td>\n",
              "      <td>2</td>\n",
              "      <td>36</td>\n",
              "      <td>0</td>\n",
              "      <td>Secondary special education</td>\n",
              "      <td>1</td>\n",
              "      <td>0</td>\n",
              "      <td>2</td>\n",
              "      <td>31000.0</td>\n",
              "      <td>1</td>\n",
              "      <td>2</td>\n",
              "      <td>0</td>\n",
              "      <td>0</td>\n",
              "    </tr>\n",
              "    <tr>\n",
              "      <th>3</th>\n",
              "      <td>11</td>\n",
              "      <td>10000</td>\n",
              "      <td>6</td>\n",
              "      <td>46</td>\n",
              "      <td>0</td>\n",
              "      <td>Secondary special education</td>\n",
              "      <td>0</td>\n",
              "      <td>1</td>\n",
              "      <td>1</td>\n",
              "      <td>31000.0</td>\n",
              "      <td>1</td>\n",
              "      <td>3</td>\n",
              "      <td>0</td>\n",
              "      <td>0</td>\n",
              "    </tr>\n",
              "    <tr>\n",
              "      <th>4</th>\n",
              "      <td>4</td>\n",
              "      <td>14500</td>\n",
              "      <td>4</td>\n",
              "      <td>39</td>\n",
              "      <td>0</td>\n",
              "      <td>Higher education</td>\n",
              "      <td>1</td>\n",
              "      <td>0</td>\n",
              "      <td>1</td>\n",
              "      <td>26000.0</td>\n",
              "      <td>1</td>\n",
              "      <td>0</td>\n",
              "      <td>0</td>\n",
              "      <td>0</td>\n",
              "    </tr>\n",
              "  </tbody>\n",
              "</table>\n",
              "</div>"
            ],
            "text/plain": [
              "   Month  credit_amount  credit_term  Age  sex                    education  \\\n",
              "0     10           7000            6   25    0  Secondary special education   \n",
              "1     10          19000            3   54    0  Secondary special education   \n",
              "2      1          29000            2   36    0  Secondary special education   \n",
              "3     11          10000            6   46    0  Secondary special education   \n",
              "4      4          14500            4   39    0             Higher education   \n",
              "\n",
              "   product_type  having_children_flg  region   income  family_status  \\\n",
              "0             1                    0       0  21000.0              1   \n",
              "1             3                    1       1  17000.0              1   \n",
              "2             1                    0       2  31000.0              1   \n",
              "3             0                    1       1  31000.0              1   \n",
              "4             1                    0       1  26000.0              1   \n",
              "\n",
              "   phone_operator  is_client  target  \n",
              "0               0          0       0  \n",
              "1               3          0       0  \n",
              "2               2          0       0  \n",
              "3               3          0       0  \n",
              "4               0          0       0  "
            ]
          },
          "execution_count": 5,
          "metadata": {},
          "output_type": "execute_result"
        },
        {
          "data": {
            "application/javascript": [
              "\n",
              "            setTimeout(function() {\n",
              "                var nbb_cell_id = 5;\n",
              "                var nbb_unformatted_code = \"data.head()\";\n",
              "                var nbb_formatted_code = \"data.head()\";\n",
              "                var nbb_cells = Jupyter.notebook.get_cells();\n",
              "                for (var i = 0; i < nbb_cells.length; ++i) {\n",
              "                    if (nbb_cells[i].input_prompt_number == nbb_cell_id) {\n",
              "                        if (nbb_cells[i].get_text() == nbb_unformatted_code) {\n",
              "                             nbb_cells[i].set_text(nbb_formatted_code);\n",
              "                        }\n",
              "                        break;\n",
              "                    }\n",
              "                }\n",
              "            }, 500);\n",
              "            "
            ],
            "text/plain": [
              "<IPython.core.display.Javascript object>"
            ]
          },
          "metadata": {},
          "output_type": "display_data"
        }
      ]
    },
    {
      "cell_type": "code",
      "metadata": {
        "colab": {
          "base_uri": "https://localhost:8080/"
        },
        "id": "XlCskF3Fq9Rl",
        "outputId": "484f2238-9b83-4ea8-ccb4-d9d9ec07db52"
      },
      "source": [
        "data.info()"
      ],
      "execution_count": null,
      "outputs": [
        {
          "name": "stdout",
          "output_type": "stream",
          "text": [
            "<class 'pandas.core.frame.DataFrame'>\n",
            "RangeIndex: 1000 entries, 0 to 999\n",
            "Data columns (total 14 columns):\n",
            " #   Column               Non-Null Count  Dtype  \n",
            "---  ------               --------------  -----  \n",
            " 0   Month                1000 non-null   int64  \n",
            " 1   credit_amount        1000 non-null   int64  \n",
            " 2   credit_term          1000 non-null   int64  \n",
            " 3   Age                  1000 non-null   int64  \n",
            " 4   sex                  1000 non-null   int64  \n",
            " 5   education            1000 non-null   object \n",
            " 6   product_type         1000 non-null   int64  \n",
            " 7   having_children_flg  1000 non-null   int64  \n",
            " 8   region               1000 non-null   int64  \n",
            " 9   income               967 non-null    float64\n",
            " 10  family_status        1000 non-null   int64  \n",
            " 11  phone_operator       1000 non-null   int64  \n",
            " 12  is_client            1000 non-null   int64  \n",
            " 13  target               1000 non-null   int64  \n",
            "dtypes: float64(1), int64(12), object(1)\n",
            "memory usage: 109.5+ KB\n"
          ]
        },
        {
          "data": {
            "application/javascript": [
              "\n",
              "            setTimeout(function() {\n",
              "                var nbb_cell_id = 6;\n",
              "                var nbb_unformatted_code = \"data.info()\";\n",
              "                var nbb_formatted_code = \"data.info()\";\n",
              "                var nbb_cells = Jupyter.notebook.get_cells();\n",
              "                for (var i = 0; i < nbb_cells.length; ++i) {\n",
              "                    if (nbb_cells[i].input_prompt_number == nbb_cell_id) {\n",
              "                        if (nbb_cells[i].get_text() == nbb_unformatted_code) {\n",
              "                             nbb_cells[i].set_text(nbb_formatted_code);\n",
              "                        }\n",
              "                        break;\n",
              "                    }\n",
              "                }\n",
              "            }, 500);\n",
              "            "
            ],
            "text/plain": [
              "<IPython.core.display.Javascript object>"
            ]
          },
          "metadata": {},
          "output_type": "display_data"
        }
      ]
    },
    {
      "cell_type": "code",
      "metadata": {
        "id": "6XbFryla5cJe",
        "outputId": "2c58762b-d38b-4829-ab29-dfa52d6c445e"
      },
      "source": [
        "# checking missing values in the data\n",
        "data.isna().sum()"
      ],
      "execution_count": null,
      "outputs": [
        {
          "data": {
            "text/plain": [
              "Month                   0\n",
              "credit_amount           0\n",
              "credit_term             0\n",
              "Age                     0\n",
              "sex                     0\n",
              "education               0\n",
              "product_type            0\n",
              "having_children_flg     0\n",
              "region                  0\n",
              "income                 33\n",
              "family_status           0\n",
              "phone_operator          0\n",
              "is_client               0\n",
              "target                  0\n",
              "dtype: int64"
            ]
          },
          "execution_count": 7,
          "metadata": {},
          "output_type": "execute_result"
        },
        {
          "data": {
            "application/javascript": [
              "\n",
              "            setTimeout(function() {\n",
              "                var nbb_cell_id = 7;\n",
              "                var nbb_unformatted_code = \"# checking missing values in the data\\ndata.isna().sum()\";\n",
              "                var nbb_formatted_code = \"# checking missing values in the data\\ndata.isna().sum()\";\n",
              "                var nbb_cells = Jupyter.notebook.get_cells();\n",
              "                for (var i = 0; i < nbb_cells.length; ++i) {\n",
              "                    if (nbb_cells[i].input_prompt_number == nbb_cell_id) {\n",
              "                        if (nbb_cells[i].get_text() == nbb_unformatted_code) {\n",
              "                             nbb_cells[i].set_text(nbb_formatted_code);\n",
              "                        }\n",
              "                        break;\n",
              "                    }\n",
              "                }\n",
              "            }, 500);\n",
              "            "
            ],
            "text/plain": [
              "<IPython.core.display.Javascript object>"
            ]
          },
          "metadata": {},
          "output_type": "display_data"
        }
      ]
    },
    {
      "cell_type": "markdown",
      "metadata": {
        "id": "EQHkb8_W5cJf"
      },
      "source": [
        "**The income variable has some missing values, we will impute them later**"
      ]
    },
    {
      "cell_type": "code",
      "metadata": {
        "id": "-g1iA3vkhIzq",
        "outputId": "cbee7bf4-d507-401e-a6fa-51b345edefeb"
      },
      "source": [
        "\n",
        "data[\"region\"] = data[\"region\"].astype(\"category\")\n",
        "data[\"phone_operator\"] = data[\"phone_operator\"].astype(\"category\")\n",
        "data[\"product_type\"] = data[\"product_type\"].astype(\"category\")"
      ],
      "execution_count": null,
      "outputs": [
        {
          "data": {
            "application/javascript": [
              "\n",
              "            setTimeout(function() {\n",
              "                var nbb_cell_id = 8;\n",
              "                var nbb_unformatted_code = \"data[\\\"target\\\"] = data[\\\"target\\\"].astype(\\\"category\\\")\\ndata[\\\"region\\\"] = data[\\\"region\\\"].astype(\\\"category\\\")\\ndata[\\\"phone_operator\\\"] = data[\\\"phone_operator\\\"].astype(\\\"category\\\")\\ndata[\\\"product_type\\\"] = data[\\\"product_type\\\"].astype(\\\"category\\\")\";\n",
              "                var nbb_formatted_code = \"data[\\\"target\\\"] = data[\\\"target\\\"].astype(\\\"category\\\")\\ndata[\\\"region\\\"] = data[\\\"region\\\"].astype(\\\"category\\\")\\ndata[\\\"phone_operator\\\"] = data[\\\"phone_operator\\\"].astype(\\\"category\\\")\\ndata[\\\"product_type\\\"] = data[\\\"product_type\\\"].astype(\\\"category\\\")\";\n",
              "                var nbb_cells = Jupyter.notebook.get_cells();\n",
              "                for (var i = 0; i < nbb_cells.length; ++i) {\n",
              "                    if (nbb_cells[i].input_prompt_number == nbb_cell_id) {\n",
              "                        if (nbb_cells[i].get_text() == nbb_unformatted_code) {\n",
              "                             nbb_cells[i].set_text(nbb_formatted_code);\n",
              "                        }\n",
              "                        break;\n",
              "                    }\n",
              "                }\n",
              "            }, 500);\n",
              "            "
            ],
            "text/plain": [
              "<IPython.core.display.Javascript object>"
            ]
          },
          "metadata": {},
          "output_type": "display_data"
        }
      ]
    },
    {
      "cell_type": "code",
      "metadata": {
        "colab": {
          "base_uri": "https://localhost:8080/"
        },
        "id": "iIQWS7KuhIzr",
        "outputId": "db1357f0-93bd-4dd0-ebac-acb7e5f3ec20"
      },
      "source": [
        "# checking the distribution of the target variable\n",
        "data[\"target\"].value_counts(1)"
      ],
      "execution_count": null,
      "outputs": [
        {
          "data": {
            "text/plain": [
              "0    0.893\n",
              "1    0.107\n",
              "Name: target, dtype: float64"
            ]
          },
          "execution_count": 9,
          "metadata": {},
          "output_type": "execute_result"
        },
        {
          "data": {
            "application/javascript": [
              "\n",
              "            setTimeout(function() {\n",
              "                var nbb_cell_id = 9;\n",
              "                var nbb_unformatted_code = \"# checking the distribution of the target variable\\ndata[\\\"target\\\"].value_counts(1)\";\n",
              "                var nbb_formatted_code = \"# checking the distribution of the target variable\\ndata[\\\"target\\\"].value_counts(1)\";\n",
              "                var nbb_cells = Jupyter.notebook.get_cells();\n",
              "                for (var i = 0; i < nbb_cells.length; ++i) {\n",
              "                    if (nbb_cells[i].input_prompt_number == nbb_cell_id) {\n",
              "                        if (nbb_cells[i].get_text() == nbb_unformatted_code) {\n",
              "                             nbb_cells[i].set_text(nbb_formatted_code);\n",
              "                        }\n",
              "                        break;\n",
              "                    }\n",
              "                }\n",
              "            }, 500);\n",
              "            "
            ],
            "text/plain": [
              "<IPython.core.display.Javascript object>"
            ]
          },
          "metadata": {},
          "output_type": "display_data"
        }
      ]
    },
    {
      "cell_type": "markdown",
      "metadata": {
        "id": "oZFkLVZphIzr"
      },
      "source": [
        "### Splitting the data into X and y"
      ]
    },
    {
      "cell_type": "code",
      "metadata": {
        "id": "82OTq1bvhIzs",
        "outputId": "71ed9f43-1b1a-4559-86a9-19b633b1f80e"
      },
      "source": [
        "# separating the independent and dependent variables\n",
        "X = data.drop([\"target\"], axis=1)\n",
        "y = data[\"target\"]\n",
        "\n",
        "# creating dummy variables\n",
        "X = pd.get_dummies(X, drop_first=True)"
      ],
      "execution_count": null,
      "outputs": [
        {
          "data": {
            "application/javascript": [
              "\n",
              "            setTimeout(function() {\n",
              "                var nbb_cell_id = 10;\n",
              "                var nbb_unformatted_code = \"# separating the independent and dependent variables\\nX = data.drop([\\\"target\\\"], axis=1)\\ny = data[\\\"target\\\"]\\n\\n# creating dummy variables\\nX = pd.get_dummies(X, drop_first=True)\";\n",
              "                var nbb_formatted_code = \"# separating the independent and dependent variables\\nX = data.drop([\\\"target\\\"], axis=1)\\ny = data[\\\"target\\\"]\\n\\n# creating dummy variables\\nX = pd.get_dummies(X, drop_first=True)\";\n",
              "                var nbb_cells = Jupyter.notebook.get_cells();\n",
              "                for (var i = 0; i < nbb_cells.length; ++i) {\n",
              "                    if (nbb_cells[i].input_prompt_number == nbb_cell_id) {\n",
              "                        if (nbb_cells[i].get_text() == nbb_unformatted_code) {\n",
              "                             nbb_cells[i].set_text(nbb_formatted_code);\n",
              "                        }\n",
              "                        break;\n",
              "                    }\n",
              "                }\n",
              "            }, 500);\n",
              "            "
            ],
            "text/plain": [
              "<IPython.core.display.Javascript object>"
            ]
          },
          "metadata": {},
          "output_type": "display_data"
        }
      ]
    },
    {
      "cell_type": "code",
      "metadata": {
        "colab": {
          "base_uri": "https://localhost:8080/"
        },
        "id": "mJM5CvFOhIzs",
        "outputId": "ce058b90-9625-472b-9843-12f5c6c3f5bd"
      },
      "source": [
        "# Splitting data into training, validation and test set:\n",
        "\n",
        "# first we split data into 2 parts, say temporary and test\n",
        "X_temp, X_test, y_temp, y_test = train_test_split(\n",
        "    X, y, test_size=0.2, random_state=5, stratify=y\n",
        ")\n",
        "\n",
        "# then we split the temporary set into train and validation\n",
        "X_train, X_val, y_train, y_val = train_test_split(\n",
        "    X_temp, y_temp, test_size=0.2, random_state=5, stratify=y_temp\n",
        ")\n",
        "\n",
        "print(X_train.shape, X_val.shape, X_test.shape)"
      ],
      "execution_count": null,
      "outputs": [
        {
          "name": "stdout",
          "output_type": "stream",
          "text": [
            "(640, 30) (160, 30) (200, 30)\n"
          ]
        },
        {
          "data": {
            "application/javascript": [
              "\n",
              "            setTimeout(function() {\n",
              "                var nbb_cell_id = 11;\n",
              "                var nbb_unformatted_code = \"# Splitting data into training, validation and test set:\\n\\n# first we split data into 2 parts, say temporary and test\\nX_temp, X_test, y_temp, y_test = train_test_split(\\n    X, y, test_size=0.2, random_state=5, stratify=y\\n)\\n\\n# then we split the temporary set into train and validation\\nX_train, X_val, y_train, y_val = train_test_split(\\n    X_temp, y_temp, test_size=0.2, random_state=5, stratify=y_temp\\n)\\n\\nprint(X_train.shape, X_val.shape, X_test.shape)\";\n",
              "                var nbb_formatted_code = \"# Splitting data into training, validation and test set:\\n\\n# first we split data into 2 parts, say temporary and test\\nX_temp, X_test, y_temp, y_test = train_test_split(\\n    X, y, test_size=0.2, random_state=5, stratify=y\\n)\\n\\n# then we split the temporary set into train and validation\\nX_train, X_val, y_train, y_val = train_test_split(\\n    X_temp, y_temp, test_size=0.2, random_state=5, stratify=y_temp\\n)\\n\\nprint(X_train.shape, X_val.shape, X_test.shape)\";\n",
              "                var nbb_cells = Jupyter.notebook.get_cells();\n",
              "                for (var i = 0; i < nbb_cells.length; ++i) {\n",
              "                    if (nbb_cells[i].input_prompt_number == nbb_cell_id) {\n",
              "                        if (nbb_cells[i].get_text() == nbb_unformatted_code) {\n",
              "                             nbb_cells[i].set_text(nbb_formatted_code);\n",
              "                        }\n",
              "                        break;\n",
              "                    }\n",
              "                }\n",
              "            }, 500);\n",
              "            "
            ],
            "text/plain": [
              "<IPython.core.display.Javascript object>"
            ]
          },
          "metadata": {},
          "output_type": "display_data"
        }
      ]
    },
    {
      "cell_type": "code",
      "metadata": {
        "id": "Oy7LQSmJ5cJg",
        "outputId": "8da0a126-77d4-4d1f-a1d5-b5c094830256"
      },
      "source": [
        "# Let's impute the missing values\n",
        "imp_median = SimpleImputer(missing_values=np.nan, strategy=\"median\")\n",
        "\n",
        "# fit the imputer on train data and transform the train data\n",
        "X_train[\"income\"] = imp_median.fit_transform(X_train[[\"income\"]])\n",
        "\n",
        "# transform the validation and test data using the imputer fit on train data\n",
        "X_val[\"income\"] = imp_median.transform(X_val[[\"income\"]])\n",
        "X_test[\"income\"] = imp_median.transform(X_test[[\"income\"]])"
      ],
      "execution_count": null,
      "outputs": [
        {
          "data": {
            "application/javascript": [
              "\n",
              "            setTimeout(function() {\n",
              "                var nbb_cell_id = 12;\n",
              "                var nbb_unformatted_code = \"# Let's impute the missing values\\nimp_median = SimpleImputer(missing_values=np.nan, strategy=\\\"median\\\")\\n\\n# fit the imputer on train data and transform the train data\\nX_train[\\\"income\\\"] = imp_median.fit_transform(X_train[[\\\"income\\\"]])\\n\\n# transform the validation and test data using the imputer fit on train data\\nX_val[\\\"income\\\"] = imp_median.transform(X_val[[\\\"income\\\"]])\\nX_test[\\\"income\\\"] = imp_median.transform(X_test[[\\\"income\\\"]])\";\n",
              "                var nbb_formatted_code = \"# Let's impute the missing values\\nimp_median = SimpleImputer(missing_values=np.nan, strategy=\\\"median\\\")\\n\\n# fit the imputer on train data and transform the train data\\nX_train[\\\"income\\\"] = imp_median.fit_transform(X_train[[\\\"income\\\"]])\\n\\n# transform the validation and test data using the imputer fit on train data\\nX_val[\\\"income\\\"] = imp_median.transform(X_val[[\\\"income\\\"]])\\nX_test[\\\"income\\\"] = imp_median.transform(X_test[[\\\"income\\\"]])\";\n",
              "                var nbb_cells = Jupyter.notebook.get_cells();\n",
              "                for (var i = 0; i < nbb_cells.length; ++i) {\n",
              "                    if (nbb_cells[i].input_prompt_number == nbb_cell_id) {\n",
              "                        if (nbb_cells[i].get_text() == nbb_unformatted_code) {\n",
              "                             nbb_cells[i].set_text(nbb_formatted_code);\n",
              "                        }\n",
              "                        break;\n",
              "                    }\n",
              "                }\n",
              "            }, 500);\n",
              "            "
            ],
            "text/plain": [
              "<IPython.core.display.Javascript object>"
            ]
          },
          "metadata": {},
          "output_type": "display_data"
        }
      ]
    },
    {
      "cell_type": "code",
      "metadata": {
        "colab": {
          "base_uri": "https://localhost:8080/"
        },
        "id": "JCOMaaMGhIzs",
        "outputId": "3d712183-c0a4-49bf-cf47-501d6ac2c9e8"
      },
      "source": [
        "# Checking class balance for whole data, train set, validation set, and test set\n",
        "\n",
        "print(\"Target value ratio in y\")\n",
        "print(y.value_counts(1))\n",
        "print(\"*\" * 80)\n",
        "print(\"Target value ratio in y_train\")\n",
        "print(y_train.value_counts(1))\n",
        "print(\"*\" * 80)\n",
        "print(\"Target value ratio in y_val\")\n",
        "print(y_val.value_counts(1))\n",
        "print(\"*\" * 80)\n",
        "print(\"Target value ratio in y_test\")\n",
        "print(y_test.value_counts(1))\n",
        "print(\"*\" * 80)"
      ],
      "execution_count": null,
      "outputs": [
        {
          "name": "stdout",
          "output_type": "stream",
          "text": [
            "Target value ratio in y\n",
            "0    0.893\n",
            "1    0.107\n",
            "Name: target, dtype: float64\n",
            "********************************************************************************\n",
            "Target value ratio in y_train\n",
            "0    0.892188\n",
            "1    0.107813\n",
            "Name: target, dtype: float64\n",
            "********************************************************************************\n",
            "Target value ratio in y_val\n",
            "0    0.89375\n",
            "1    0.10625\n",
            "Name: target, dtype: float64\n",
            "********************************************************************************\n",
            "Target value ratio in y_test\n",
            "0    0.895\n",
            "1    0.105\n",
            "Name: target, dtype: float64\n",
            "********************************************************************************\n"
          ]
        },
        {
          "data": {
            "application/javascript": [
              "\n",
              "            setTimeout(function() {\n",
              "                var nbb_cell_id = 13;\n",
              "                var nbb_unformatted_code = \"# Checking class balance for whole data, train set, validation set, and test set\\n\\nprint(\\\"Target value ratio in y\\\")\\nprint(y.value_counts(1))\\nprint(\\\"*\\\" * 80)\\nprint(\\\"Target value ratio in y_train\\\")\\nprint(y_train.value_counts(1))\\nprint(\\\"*\\\" * 80)\\nprint(\\\"Target value ratio in y_val\\\")\\nprint(y_val.value_counts(1))\\nprint(\\\"*\\\" * 80)\\nprint(\\\"Target value ratio in y_test\\\")\\nprint(y_test.value_counts(1))\\nprint(\\\"*\\\" * 80)\";\n",
              "                var nbb_formatted_code = \"# Checking class balance for whole data, train set, validation set, and test set\\n\\nprint(\\\"Target value ratio in y\\\")\\nprint(y.value_counts(1))\\nprint(\\\"*\\\" * 80)\\nprint(\\\"Target value ratio in y_train\\\")\\nprint(y_train.value_counts(1))\\nprint(\\\"*\\\" * 80)\\nprint(\\\"Target value ratio in y_val\\\")\\nprint(y_val.value_counts(1))\\nprint(\\\"*\\\" * 80)\\nprint(\\\"Target value ratio in y_test\\\")\\nprint(y_test.value_counts(1))\\nprint(\\\"*\\\" * 80)\";\n",
              "                var nbb_cells = Jupyter.notebook.get_cells();\n",
              "                for (var i = 0; i < nbb_cells.length; ++i) {\n",
              "                    if (nbb_cells[i].input_prompt_number == nbb_cell_id) {\n",
              "                        if (nbb_cells[i].get_text() == nbb_unformatted_code) {\n",
              "                             nbb_cells[i].set_text(nbb_formatted_code);\n",
              "                        }\n",
              "                        break;\n",
              "                    }\n",
              "                }\n",
              "            }, 500);\n",
              "            "
            ],
            "text/plain": [
              "<IPython.core.display.Javascript object>"
            ]
          },
          "metadata": {},
          "output_type": "display_data"
        }
      ]
    },
    {
      "cell_type": "markdown",
      "metadata": {
        "id": "30jm_OXJat4G"
      },
      "source": [
        "## Model evaluation criterion\n",
        "\n",
        "\n",
        "**What does a bank want?**\n",
        "* A bank wants to minimize the loss - it can face 2 types of losses here:\n",
        "   * Whenever a bank lends money to a customer, they don't return it.\n",
        "   * A bank doesn't lend money to a customer thinking a customer will default but in reality, the customer won't - opportunity loss.\n",
        "\n",
        "**Which loss is greater ?**\n",
        "* Lending to a customer who wouldn't be able to pay back.\n",
        "\n",
        "**Since we want to reduce loan defaults we should use Recall as a metric of model evaluation instead of accuracy.**\n",
        "\n",
        "* Recall - It gives the ratio of True positives to Actual positives, so high Recall implies low false negatives, i.e. low chances of predicting a bad customer as a good customer.\n"
      ]
    },
    {
      "cell_type": "markdown",
      "metadata": {
        "id": "j6alhuirsj1r"
      },
      "source": [
        "# Hyperparameter Tuning"
      ]
    },
    {
      "cell_type": "markdown",
      "metadata": {
        "id": "4NGTaawdat4H"
      },
      "source": [
        "### Let's first build a model with default parameters and see it's performance"
      ]
    },
    {
      "cell_type": "code",
      "metadata": {
        "id": "MCOiPgwkat4H",
        "outputId": "544ce052-db54-4fb3-fd49-3f4802363c47"
      },
      "source": [
        "# model without hyperparameter tuning\n",
        "rf = RandomForestClassifier(random_state=1)\n",
        "rf.fit(X_train, y_train)"
      ],
      "execution_count": null,
      "outputs": [
        {
          "data": {
            "text/plain": [
              "RandomForestClassifier(random_state=1)"
            ]
          },
          "execution_count": 14,
          "metadata": {},
          "output_type": "execute_result"
        },
        {
          "data": {
            "application/javascript": [
              "\n",
              "            setTimeout(function() {\n",
              "                var nbb_cell_id = 14;\n",
              "                var nbb_unformatted_code = \"# model without hyperparameter tuning\\nrf = RandomForestClassifier(random_state=1)\\nrf.fit(X_train, y_train)\";\n",
              "                var nbb_formatted_code = \"# model without hyperparameter tuning\\nrf = RandomForestClassifier(random_state=1)\\nrf.fit(X_train, y_train)\";\n",
              "                var nbb_cells = Jupyter.notebook.get_cells();\n",
              "                for (var i = 0; i < nbb_cells.length; ++i) {\n",
              "                    if (nbb_cells[i].input_prompt_number == nbb_cell_id) {\n",
              "                        if (nbb_cells[i].get_text() == nbb_unformatted_code) {\n",
              "                             nbb_cells[i].set_text(nbb_formatted_code);\n",
              "                        }\n",
              "                        break;\n",
              "                    }\n",
              "                }\n",
              "            }, 500);\n",
              "            "
            ],
            "text/plain": [
              "<IPython.core.display.Javascript object>"
            ]
          },
          "metadata": {},
          "output_type": "display_data"
        }
      ]
    },
    {
      "cell_type": "markdown",
      "metadata": {
        "id": "423qASgLat4H"
      },
      "source": [
        "#### Let's check model's performance"
      ]
    },
    {
      "cell_type": "code",
      "metadata": {
        "id": "Wpmoqh8sat4I",
        "outputId": "c37e18bf-0167-4b9d-b6bd-64a70dd705ba"
      },
      "source": [
        "# Checking recall score on train and validation set\n",
        "print(\"Recall on train and validation set\")\n",
        "print(recall_score(y_train, rf.predict(X_train)))\n",
        "print(recall_score(y_val, rf.predict(X_val)))\n",
        "print(\"\")\n",
        "\n",
        "# Checking Precision score on train and validation set\n",
        "print(\"Precision on train and validation set\")\n",
        "print(precision_score(y_train, rf.predict(X_train)))\n",
        "print(precision_score(y_val, rf.predict(X_val)))\n",
        "\n",
        "print(\"\")\n",
        "\n",
        "# Checking Accuracy score on train and validation set\n",
        "print(\"Accuracy on train and validation set\")\n",
        "print(accuracy_score(y_train, rf.predict(X_train)))\n",
        "print(accuracy_score(y_val, rf.predict(X_val)))"
      ],
      "execution_count": null,
      "outputs": [
        {
          "name": "stdout",
          "output_type": "stream",
          "text": [
            "Recall on train and validation set\n",
            "1.0\n",
            "0.5294117647058824\n",
            "\n",
            "Precision on train and validation set\n",
            "1.0\n",
            "1.0\n",
            "\n",
            "Accuracy on train and validation set\n",
            "1.0\n",
            "0.95\n"
          ]
        },
        {
          "data": {
            "application/javascript": [
              "\n",
              "            setTimeout(function() {\n",
              "                var nbb_cell_id = 15;\n",
              "                var nbb_unformatted_code = \"# Checking recall score on train and validation set\\nprint(\\\"Recall on train and validation set\\\")\\nprint(recall_score(y_train, rf.predict(X_train)))\\nprint(recall_score(y_val, rf.predict(X_val)))\\nprint(\\\"\\\")\\n\\n# Checking Precision score on train and validation set\\nprint(\\\"Precision on train and validation set\\\")\\nprint(precision_score(y_train, rf.predict(X_train)))\\nprint(precision_score(y_val, rf.predict(X_val)))\\n\\nprint(\\\"\\\")\\n\\n# Checking Accuracy score on train and validation set\\nprint(\\\"Accuracy on train and validation set\\\")\\nprint(accuracy_score(y_train, rf.predict(X_train)))\\nprint(accuracy_score(y_val, rf.predict(X_val)))\";\n",
              "                var nbb_formatted_code = \"# Checking recall score on train and validation set\\nprint(\\\"Recall on train and validation set\\\")\\nprint(recall_score(y_train, rf.predict(X_train)))\\nprint(recall_score(y_val, rf.predict(X_val)))\\nprint(\\\"\\\")\\n\\n# Checking Precision score on train and validation set\\nprint(\\\"Precision on train and validation set\\\")\\nprint(precision_score(y_train, rf.predict(X_train)))\\nprint(precision_score(y_val, rf.predict(X_val)))\\n\\nprint(\\\"\\\")\\n\\n# Checking Accuracy score on train and validation set\\nprint(\\\"Accuracy on train and validation set\\\")\\nprint(accuracy_score(y_train, rf.predict(X_train)))\\nprint(accuracy_score(y_val, rf.predict(X_val)))\";\n",
              "                var nbb_cells = Jupyter.notebook.get_cells();\n",
              "                for (var i = 0; i < nbb_cells.length; ++i) {\n",
              "                    if (nbb_cells[i].input_prompt_number == nbb_cell_id) {\n",
              "                        if (nbb_cells[i].get_text() == nbb_unformatted_code) {\n",
              "                             nbb_cells[i].set_text(nbb_formatted_code);\n",
              "                        }\n",
              "                        break;\n",
              "                    }\n",
              "                }\n",
              "            }, 500);\n",
              "            "
            ],
            "text/plain": [
              "<IPython.core.display.Javascript object>"
            ]
          },
          "metadata": {},
          "output_type": "display_data"
        }
      ]
    },
    {
      "cell_type": "markdown",
      "metadata": {
        "id": "pagBRSPPat4J"
      },
      "source": [
        "- The model is performing well on the train data but the performance on the validation data is very poor.\n",
        "- Let's see if we can improve it with hyperparameter tuning."
      ]
    },
    {
      "cell_type": "markdown",
      "metadata": {
        "id": "EptTvLbuat4J"
      },
      "source": [
        "## Grid Search CV\n",
        "* Hyperparameter tuning is also tricky in the sense that there is no direct way to calculate how a change in the hyperparameter value will reduce the loss of your model, so we usually resort to experimentation. i.e we'll use Grid search\n",
        "* Grid search is a tuning technique that attempts to compute the optimum values of hyperparameters.\n",
        "* It is an exhaustive search that is performed on the specific parameter values of a model.\n",
        "* The parameters of the estimator/model used to apply these methods are optimized by cross-validated grid-search over a parameter grid."
      ]
    },
    {
      "cell_type": "markdown",
      "metadata": {
        "id": "5dlc9_NIat4J"
      },
      "source": [
        "- **How to know the hyperparameters available for an algorithm?**"
      ]
    },
    {
      "cell_type": "code",
      "metadata": {
        "id": "5WWA0sEJat4K",
        "outputId": "20318780-a105-4723-a810-6b1db11f6a36"
      },
      "source": [
        "RandomForestClassifier().get_params()"
      ],
      "execution_count": null,
      "outputs": [
        {
          "data": {
            "text/plain": [
              "{'bootstrap': True,\n",
              " 'ccp_alpha': 0.0,\n",
              " 'class_weight': None,\n",
              " 'criterion': 'gini',\n",
              " 'max_depth': None,\n",
              " 'max_features': 'auto',\n",
              " 'max_leaf_nodes': None,\n",
              " 'max_samples': None,\n",
              " 'min_impurity_decrease': 0.0,\n",
              " 'min_impurity_split': None,\n",
              " 'min_samples_leaf': 1,\n",
              " 'min_samples_split': 2,\n",
              " 'min_weight_fraction_leaf': 0.0,\n",
              " 'n_estimators': 100,\n",
              " 'n_jobs': None,\n",
              " 'oob_score': False,\n",
              " 'random_state': None,\n",
              " 'verbose': 0,\n",
              " 'warm_start': False}"
            ]
          },
          "execution_count": 16,
          "metadata": {},
          "output_type": "execute_result"
        },
        {
          "data": {
            "application/javascript": [
              "\n",
              "            setTimeout(function() {\n",
              "                var nbb_cell_id = 16;\n",
              "                var nbb_unformatted_code = \"RandomForestClassifier().get_params()\";\n",
              "                var nbb_formatted_code = \"RandomForestClassifier().get_params()\";\n",
              "                var nbb_cells = Jupyter.notebook.get_cells();\n",
              "                for (var i = 0; i < nbb_cells.length; ++i) {\n",
              "                    if (nbb_cells[i].input_prompt_number == nbb_cell_id) {\n",
              "                        if (nbb_cells[i].get_text() == nbb_unformatted_code) {\n",
              "                             nbb_cells[i].set_text(nbb_formatted_code);\n",
              "                        }\n",
              "                        break;\n",
              "                    }\n",
              "                }\n",
              "            }, 500);\n",
              "            "
            ],
            "text/plain": [
              "<IPython.core.display.Javascript object>"
            ]
          },
          "metadata": {},
          "output_type": "display_data"
        }
      ]
    },
    {
      "cell_type": "markdown",
      "metadata": {
        "id": "tcOIKqp4at4K"
      },
      "source": [
        "- We can see the names of hyperparameters available and their default values.\n",
        "- We can choose which ones to tune."
      ]
    },
    {
      "cell_type": "code",
      "metadata": {
        "colab": {
          "base_uri": "https://localhost:8080/"
        },
        "id": "VnKFyRAwVAPn",
        "outputId": "b84e0df0-1c11-459c-d583-58c4f55a35ad"
      },
      "source": [
        "print(np.arange(0.2, 0.7, 0.1))\n",
        "\n",
        "print(np.arange(5,10))"
      ],
      "execution_count": null,
      "outputs": [
        {
          "output_type": "stream",
          "name": "stdout",
          "text": [
            "[0.2 0.3 0.4 0.5 0.6]\n",
            "[5 6 7 8 9]\n"
          ]
        }
      ]
    },
    {
      "cell_type": "markdown",
      "metadata": {
        "id": "3m5AtskSat4K"
      },
      "source": [
        "### Let's tune Random forest using Grid Search"
      ]
    },
    {
      "cell_type": "code",
      "metadata": {
        "id": "ylfOoVr0at4K",
        "outputId": "ee1800b1-618e-4f3a-90fa-3d5c34eb8d24"
      },
      "source": [
        "%%time\n",
        "\n",
        "# Choose the type of classifier.\n",
        "rf1 = RandomForestClassifier(random_state=1)\n",
        "\n",
        "# Grid of parameters to choose from\n",
        "parameters = {\"n_estimators\": [150,200,250],\n",
        "    \"min_samples_leaf\": np.arange(5, 10),\n",
        "    \"max_features\": np.arange(0.2, 0.7, 0.1),\n",
        "    \"max_samples\": np.arange(0.3, 0.7, 0.1),\n",
        "    \"class_weight\" : ['balanced', 'balanced_subsample'],\n",
        "    \"max_depth\":np.arange(3,4,5),\n",
        "    \"min_impurity_decrease\":[0.001, 0.002, 0.003]\n",
        "             }\n",
        "\n",
        "# Type of scoring used to compare parameter combinations\n",
        "acc_scorer = metrics.make_scorer(metrics.recall_score)\n",
        "\n",
        "# Run the grid search\n",
        "grid_obj = GridSearchCV(rf1, parameters, scoring=acc_scorer, cv=5, n_jobs= -1, verbose = 2)\n",
        "# verbose = 2 tells about the number of fits, which can give an idea of how long will the model take in tuning\n",
        "# n_jobs = -1 so that all CPU cores can be run parallelly to optimize the Search\n",
        "\n",
        "grid_obj = grid_obj.fit(X_train, y_train)\n",
        "\n",
        "# Print the best combination of parameters\n",
        "grid_obj.best_params_\n"
      ],
      "execution_count": null,
      "outputs": [
        {
          "name": "stdout",
          "output_type": "stream",
          "text": [
            "Fitting 5 folds for each of 1800 candidates, totalling 9000 fits\n",
            "Wall time: 15min 34s\n"
          ]
        },
        {
          "data": {
            "text/plain": [
              "{'class_weight': 'balanced',\n",
              " 'max_depth': 3,\n",
              " 'max_features': 0.2,\n",
              " 'max_samples': 0.6000000000000001,\n",
              " 'min_impurity_decrease': 0.001,\n",
              " 'min_samples_leaf': 5,\n",
              " 'n_estimators': 150}"
            ]
          },
          "execution_count": 17,
          "metadata": {},
          "output_type": "execute_result"
        },
        {
          "data": {
            "application/javascript": [
              "\n",
              "            setTimeout(function() {\n",
              "                var nbb_cell_id = 17;\n",
              "                var nbb_unformatted_code = \"%%time\\n\\n# Choose the type of classifier. \\nrf1 = RandomForestClassifier(random_state=1)\\n\\n# Grid of parameters to choose from\\nparameters = {\\\"n_estimators\\\": [150,200,250],\\n    \\\"min_samples_leaf\\\": np.arange(5, 10),\\n    \\\"max_features\\\": np.arange(0.2, 0.7, 0.1),\\n    \\\"max_samples\\\": np.arange(0.3, 0.7, 0.1),\\n    \\\"class_weight\\\" : ['balanced', 'balanced_subsample'],\\n    \\\"max_depth\\\":np.arange(3,4,5),\\n    \\\"min_impurity_decrease\\\":[0.001, 0.002, 0.003]\\n             }\\n\\n# Type of scoring used to compare parameter combinations\\nacc_scorer = metrics.make_scorer(metrics.recall_score)\\n\\n# Run the grid search\\ngrid_obj = GridSearchCV(rf1, parameters, scoring=acc_scorer, cv=5, n_jobs= -1, verbose = 2)\\n# verbose = 2 tells about the number of fits, which can give an idea of how long will the model take in tuning\\n# n_jobs = -1 so that all CPU cores can be run parallelly to optimize the Search\\n\\ngrid_obj = grid_obj.fit(X_train, y_train)\\n\\n# Print the best combination of parameters\\ngrid_obj.best_params_\";\n",
              "                var nbb_formatted_code = \"%%time\\n\\n# Choose the type of classifier. \\nrf1 = RandomForestClassifier(random_state=1)\\n\\n# Grid of parameters to choose from\\nparameters = {\\\"n_estimators\\\": [150,200,250],\\n    \\\"min_samples_leaf\\\": np.arange(5, 10),\\n    \\\"max_features\\\": np.arange(0.2, 0.7, 0.1),\\n    \\\"max_samples\\\": np.arange(0.3, 0.7, 0.1),\\n    \\\"class_weight\\\" : ['balanced', 'balanced_subsample'],\\n    \\\"max_depth\\\":np.arange(3,4,5),\\n    \\\"min_impurity_decrease\\\":[0.001, 0.002, 0.003]\\n             }\\n\\n# Type of scoring used to compare parameter combinations\\nacc_scorer = metrics.make_scorer(metrics.recall_score)\\n\\n# Run the grid search\\ngrid_obj = GridSearchCV(rf1, parameters, scoring=acc_scorer, cv=5, n_jobs= -1, verbose = 2)\\n# verbose = 2 tells about the number of fits, which can give an idea of how long will the model take in tuning\\n# n_jobs = -1 so that all CPU cores can be run parallelly to optimize the Search\\n\\ngrid_obj = grid_obj.fit(X_train, y_train)\\n\\n# Print the best combination of parameters\\ngrid_obj.best_params_\";\n",
              "                var nbb_cells = Jupyter.notebook.get_cells();\n",
              "                for (var i = 0; i < nbb_cells.length; ++i) {\n",
              "                    if (nbb_cells[i].input_prompt_number == nbb_cell_id) {\n",
              "                        if (nbb_cells[i].get_text() == nbb_unformatted_code) {\n",
              "                             nbb_cells[i].set_text(nbb_formatted_code);\n",
              "                        }\n",
              "                        break;\n",
              "                    }\n",
              "                }\n",
              "            }, 500);\n",
              "            "
            ],
            "text/plain": [
              "<IPython.core.display.Javascript object>"
            ]
          },
          "metadata": {},
          "output_type": "display_data"
        }
      ]
    },
    {
      "cell_type": "markdown",
      "metadata": {
        "id": "5LpaXjDIat4K"
      },
      "source": [
        "#### Let's check the best CV score, for the obtained parameters"
      ]
    },
    {
      "cell_type": "code",
      "metadata": {
        "id": "SVO8ak5Fat4L",
        "outputId": "881d0886-4817-4d1a-8fa7-db29e1c41e8d"
      },
      "source": [
        "grid_obj.best_score_"
      ],
      "execution_count": null,
      "outputs": [
        {
          "data": {
            "text/plain": [
              "0.7692307692307692"
            ]
          },
          "execution_count": 18,
          "metadata": {},
          "output_type": "execute_result"
        },
        {
          "data": {
            "application/javascript": [
              "\n",
              "            setTimeout(function() {\n",
              "                var nbb_cell_id = 18;\n",
              "                var nbb_unformatted_code = \"grid_obj.best_score_\";\n",
              "                var nbb_formatted_code = \"grid_obj.best_score_\";\n",
              "                var nbb_cells = Jupyter.notebook.get_cells();\n",
              "                for (var i = 0; i < nbb_cells.length; ++i) {\n",
              "                    if (nbb_cells[i].input_prompt_number == nbb_cell_id) {\n",
              "                        if (nbb_cells[i].get_text() == nbb_unformatted_code) {\n",
              "                             nbb_cells[i].set_text(nbb_formatted_code);\n",
              "                        }\n",
              "                        break;\n",
              "                    }\n",
              "                }\n",
              "            }, 500);\n",
              "            "
            ],
            "text/plain": [
              "<IPython.core.display.Javascript object>"
            ]
          },
          "metadata": {},
          "output_type": "display_data"
        }
      ]
    },
    {
      "cell_type": "markdown",
      "metadata": {
        "id": "IUvVCFguat4L"
      },
      "source": [
        "#### Let's build a model with obtained best parameters\n",
        "- We are hard coding the hyperparameters separately so that we don't have to run the grid search again."
      ]
    },
    {
      "cell_type": "code",
      "metadata": {
        "id": "379_TUHWat4L",
        "outputId": "6c1b901c-1821-4751-c9ac-b6b87f961bb3"
      },
      "source": [
        "# Set the clf to the best combination of parameters\n",
        "rf1_tuned = RandomForestClassifier(\n",
        "    class_weight=\"balanced\",\n",
        "    max_features=0.2,\n",
        "    max_samples=0.6000000000000001,\n",
        "    min_samples_leaf=5,\n",
        "    n_estimators=150,\n",
        "    max_depth=3,\n",
        "    random_state=1,\n",
        "    min_impurity_decrease=0.001,\n",
        ")\n",
        "\n",
        "# Fit the best algorithm to the data.\n",
        "rf1_tuned.fit(X_train, y_train)"
      ],
      "execution_count": null,
      "outputs": [
        {
          "data": {
            "text/plain": [
              "RandomForestClassifier(class_weight='balanced', max_depth=3, max_features=0.2,\n",
              "                       max_samples=0.6000000000000001,\n",
              "                       min_impurity_decrease=0.001, min_samples_leaf=5,\n",
              "                       n_estimators=150, random_state=1)"
            ]
          },
          "execution_count": 19,
          "metadata": {},
          "output_type": "execute_result"
        },
        {
          "data": {
            "application/javascript": [
              "\n",
              "            setTimeout(function() {\n",
              "                var nbb_cell_id = 19;\n",
              "                var nbb_unformatted_code = \"# Set the clf to the best combination of parameters\\nrf1_tuned = RandomForestClassifier(\\n    class_weight=\\\"balanced\\\",\\n    max_features=0.2,\\n    max_samples=0.6000000000000001,\\n    min_samples_leaf=5,\\n    n_estimators=150,\\n    max_depth=3,\\n    random_state=1,\\n    min_impurity_decrease=0.001,\\n)\\n\\n# Fit the best algorithm to the data.\\nrf1_tuned.fit(X_train, y_train)\";\n",
              "                var nbb_formatted_code = \"# Set the clf to the best combination of parameters\\nrf1_tuned = RandomForestClassifier(\\n    class_weight=\\\"balanced\\\",\\n    max_features=0.2,\\n    max_samples=0.6000000000000001,\\n    min_samples_leaf=5,\\n    n_estimators=150,\\n    max_depth=3,\\n    random_state=1,\\n    min_impurity_decrease=0.001,\\n)\\n\\n# Fit the best algorithm to the data.\\nrf1_tuned.fit(X_train, y_train)\";\n",
              "                var nbb_cells = Jupyter.notebook.get_cells();\n",
              "                for (var i = 0; i < nbb_cells.length; ++i) {\n",
              "                    if (nbb_cells[i].input_prompt_number == nbb_cell_id) {\n",
              "                        if (nbb_cells[i].get_text() == nbb_unformatted_code) {\n",
              "                             nbb_cells[i].set_text(nbb_formatted_code);\n",
              "                        }\n",
              "                        break;\n",
              "                    }\n",
              "                }\n",
              "            }, 500);\n",
              "            "
            ],
            "text/plain": [
              "<IPython.core.display.Javascript object>"
            ]
          },
          "metadata": {},
          "output_type": "display_data"
        }
      ]
    },
    {
      "cell_type": "markdown",
      "metadata": {
        "id": "lGRlwqfuat4M"
      },
      "source": [
        "#### Let's check the model's performance"
      ]
    },
    {
      "cell_type": "code",
      "metadata": {
        "id": "Uwkw63nFat4M",
        "outputId": "f57a0146-5766-4c57-9421-1be71fdb3a22"
      },
      "source": [
        "# Checking recall score on train and validation set\n",
        "print(\"Recall on train and validation set\")\n",
        "print(recall_score(y_train, rf1_tuned.predict(X_train)))\n",
        "print(recall_score(y_val, rf1_tuned.predict(X_val)))\n",
        "print(\"\")\n",
        "\n",
        "# Checking precision score on train and validation set\n",
        "print(\"Precision on train and validation set\")\n",
        "print(precision_score(y_train, rf1_tuned.predict(X_train)))\n",
        "print(precision_score(y_val, rf1_tuned.predict(X_val)))\n",
        "print(\"\")\n",
        "\n",
        "# Checking accuracy score on train and validation set\n",
        "print(\"Accuracy on train and validation set\")\n",
        "print(accuracy_score(y_train, rf1_tuned.predict(X_train)))\n",
        "print(accuracy_score(y_val, rf1_tuned.predict(X_val)))"
      ],
      "execution_count": null,
      "outputs": [
        {
          "name": "stdout",
          "output_type": "stream",
          "text": [
            "Recall on train and validation set\n",
            "0.8840579710144928\n",
            "0.8235294117647058\n",
            "\n",
            "Precision on train and validation set\n",
            "0.7922077922077922\n",
            "0.8235294117647058\n",
            "\n",
            "Accuracy on train and validation set\n",
            "0.9625\n",
            "0.9625\n"
          ]
        },
        {
          "data": {
            "application/javascript": [
              "\n",
              "            setTimeout(function() {\n",
              "                var nbb_cell_id = 20;\n",
              "                var nbb_unformatted_code = \"# Checking recall score on train and validation set\\nprint(\\\"Recall on train and validation set\\\")\\nprint(recall_score(y_train, rf1_tuned.predict(X_train)))\\nprint(recall_score(y_val, rf1_tuned.predict(X_val)))\\nprint(\\\"\\\")\\n\\n# Checking precision score on train and validation set\\nprint(\\\"Precision on train and validation set\\\")\\nprint(precision_score(y_train, rf1_tuned.predict(X_train)))\\nprint(precision_score(y_val, rf1_tuned.predict(X_val)))\\nprint(\\\"\\\")\\n\\n# Checking accuracy score on train and validation set\\nprint(\\\"Accuracy on train and validation set\\\")\\nprint(accuracy_score(y_train, rf1_tuned.predict(X_train)))\\nprint(accuracy_score(y_val, rf1_tuned.predict(X_val)))\";\n",
              "                var nbb_formatted_code = \"# Checking recall score on train and validation set\\nprint(\\\"Recall on train and validation set\\\")\\nprint(recall_score(y_train, rf1_tuned.predict(X_train)))\\nprint(recall_score(y_val, rf1_tuned.predict(X_val)))\\nprint(\\\"\\\")\\n\\n# Checking precision score on train and validation set\\nprint(\\\"Precision on train and validation set\\\")\\nprint(precision_score(y_train, rf1_tuned.predict(X_train)))\\nprint(precision_score(y_val, rf1_tuned.predict(X_val)))\\nprint(\\\"\\\")\\n\\n# Checking accuracy score on train and validation set\\nprint(\\\"Accuracy on train and validation set\\\")\\nprint(accuracy_score(y_train, rf1_tuned.predict(X_train)))\\nprint(accuracy_score(y_val, rf1_tuned.predict(X_val)))\";\n",
              "                var nbb_cells = Jupyter.notebook.get_cells();\n",
              "                for (var i = 0; i < nbb_cells.length; ++i) {\n",
              "                    if (nbb_cells[i].input_prompt_number == nbb_cell_id) {\n",
              "                        if (nbb_cells[i].get_text() == nbb_unformatted_code) {\n",
              "                             nbb_cells[i].set_text(nbb_formatted_code);\n",
              "                        }\n",
              "                        break;\n",
              "                    }\n",
              "                }\n",
              "            }, 500);\n",
              "            "
            ],
            "text/plain": [
              "<IPython.core.display.Javascript object>"
            ]
          },
          "metadata": {},
          "output_type": "display_data"
        }
      ]
    },
    {
      "cell_type": "markdown",
      "metadata": {
        "id": "ZBnd4W_Fat4N"
      },
      "source": [
        "- We can see improvement in validation performance as compared to the model without hyperparameter tuning\n",
        "- Recall on both training set and validation set is good and is 88% on the validation"
      ]
    },
    {
      "cell_type": "markdown",
      "metadata": {
        "id": "UnujALXkat4O"
      },
      "source": [
        "## Randomized Search CV\n",
        "* Random search is a tuning technique that attempts to compute the optimum values of hyperparameters randomly unlike grid search"
      ]
    },
    {
      "cell_type": "markdown",
      "metadata": {
        "id": "W11Pi8rlat4O"
      },
      "source": [
        "### Let's tune Random forest using Randomized Search"
      ]
    },
    {
      "cell_type": "code",
      "metadata": {
        "id": "-4Lkjcefat4P",
        "outputId": "e146b028-0de1-46a5-ef44-fe418539dad3"
      },
      "source": [
        "%%time\n",
        "\n",
        "# Choose the type of classifier.\n",
        "rf2 = RandomForestClassifier(random_state=1)\n",
        "\n",
        "# Grid of parameters to choose from\n",
        "parameters = {\"n_estimators\": [150,200,250],\n",
        "    \"min_samples_leaf\": np.arange(5, 10),\n",
        "    \"max_features\": np.arange(0.2, 0.7, 0.1),\n",
        "    \"max_samples\": np.arange(0.3, 0.7, 0.1),\n",
        "    \"max_depth\":np.arange(3,4,5),\n",
        "    \"class_weight\" : ['balanced', 'balanced_subsample'],\n",
        "    \"min_impurity_decrease\":[0.001, 0.002, 0.003]\n",
        "             }\n",
        "\n",
        "# Type of scoring used to compare parameter combinations\n",
        "acc_scorer = metrics.make_scorer(metrics.recall_score)\n",
        "\n",
        "# Run the random search\n",
        "grid_obj = RandomizedSearchCV(rf2, parameters,n_iter=30, scoring=acc_scorer,cv=5, random_state = 1, n_jobs = -1, verbose = 2)\n",
        "# using n_iter = 30, so randomized search will try 30 different combinations of hyperparameters\n",
        "# by default, n_iter = 10\n",
        "\n",
        "grid_obj = grid_obj.fit(X_train, y_train)\n",
        "\n",
        "# Print the best combination of parameters\n",
        "grid_obj.best_params_\n"
      ],
      "execution_count": null,
      "outputs": [
        {
          "name": "stdout",
          "output_type": "stream",
          "text": [
            "Fitting 5 folds for each of 30 candidates, totalling 150 fits\n",
            "Wall time: 13.7 s\n"
          ]
        },
        {
          "data": {
            "text/plain": [
              "{'n_estimators': 150,\n",
              " 'min_samples_leaf': 5,\n",
              " 'min_impurity_decrease': 0.003,\n",
              " 'max_samples': 0.5,\n",
              " 'max_features': 0.2,\n",
              " 'max_depth': 3,\n",
              " 'class_weight': 'balanced'}"
            ]
          },
          "execution_count": 21,
          "metadata": {},
          "output_type": "execute_result"
        },
        {
          "data": {
            "application/javascript": [
              "\n",
              "            setTimeout(function() {\n",
              "                var nbb_cell_id = 21;\n",
              "                var nbb_unformatted_code = \"%%time\\n\\n# Choose the type of classifier. \\nrf2 = RandomForestClassifier(random_state=1)\\n\\n# Grid of parameters to choose from\\nparameters = {\\\"n_estimators\\\": [150,200,250],\\n    \\\"min_samples_leaf\\\": np.arange(5, 10),\\n    \\\"max_features\\\": np.arange(0.2, 0.7, 0.1), \\n    \\\"max_samples\\\": np.arange(0.3, 0.7, 0.1),\\n    \\\"max_depth\\\":np.arange(3,4,5),\\n    \\\"class_weight\\\" : ['balanced', 'balanced_subsample'],\\n    \\\"min_impurity_decrease\\\":[0.001, 0.002, 0.003]\\n             }\\n\\n# Type of scoring used to compare parameter combinations\\nacc_scorer = metrics.make_scorer(metrics.recall_score)\\n\\n# Run the random search\\ngrid_obj = RandomizedSearchCV(rf2, parameters,n_iter=30, scoring=acc_scorer,cv=5, random_state = 1, n_jobs = -1, verbose = 2)\\n# using n_iter = 30, so randomized search will try 30 different combinations of hyperparameters\\n# by default, n_iter = 10\\n\\ngrid_obj = grid_obj.fit(X_train, y_train)\\n\\n# Print the best combination of parameters\\ngrid_obj.best_params_\";\n",
              "                var nbb_formatted_code = \"%%time\\n\\n# Choose the type of classifier. \\nrf2 = RandomForestClassifier(random_state=1)\\n\\n# Grid of parameters to choose from\\nparameters = {\\\"n_estimators\\\": [150,200,250],\\n    \\\"min_samples_leaf\\\": np.arange(5, 10),\\n    \\\"max_features\\\": np.arange(0.2, 0.7, 0.1), \\n    \\\"max_samples\\\": np.arange(0.3, 0.7, 0.1),\\n    \\\"max_depth\\\":np.arange(3,4,5),\\n    \\\"class_weight\\\" : ['balanced', 'balanced_subsample'],\\n    \\\"min_impurity_decrease\\\":[0.001, 0.002, 0.003]\\n             }\\n\\n# Type of scoring used to compare parameter combinations\\nacc_scorer = metrics.make_scorer(metrics.recall_score)\\n\\n# Run the random search\\ngrid_obj = RandomizedSearchCV(rf2, parameters,n_iter=30, scoring=acc_scorer,cv=5, random_state = 1, n_jobs = -1, verbose = 2)\\n# using n_iter = 30, so randomized search will try 30 different combinations of hyperparameters\\n# by default, n_iter = 10\\n\\ngrid_obj = grid_obj.fit(X_train, y_train)\\n\\n# Print the best combination of parameters\\ngrid_obj.best_params_\";\n",
              "                var nbb_cells = Jupyter.notebook.get_cells();\n",
              "                for (var i = 0; i < nbb_cells.length; ++i) {\n",
              "                    if (nbb_cells[i].input_prompt_number == nbb_cell_id) {\n",
              "                        if (nbb_cells[i].get_text() == nbb_unformatted_code) {\n",
              "                             nbb_cells[i].set_text(nbb_formatted_code);\n",
              "                        }\n",
              "                        break;\n",
              "                    }\n",
              "                }\n",
              "            }, 500);\n",
              "            "
            ],
            "text/plain": [
              "<IPython.core.display.Javascript object>"
            ]
          },
          "metadata": {},
          "output_type": "display_data"
        }
      ]
    },
    {
      "cell_type": "markdown",
      "metadata": {
        "id": "BC3IB5JAat4P"
      },
      "source": [
        "#### Let's check the best CV score, for the obtained parameters"
      ]
    },
    {
      "cell_type": "code",
      "metadata": {
        "id": "9HZAnjxfat4P",
        "outputId": "99fe8701-ae44-4905-c2f6-0c503aee1884"
      },
      "source": [
        "grid_obj.best_score_"
      ],
      "execution_count": null,
      "outputs": [
        {
          "data": {
            "text/plain": [
              "0.7538461538461538"
            ]
          },
          "execution_count": 22,
          "metadata": {},
          "output_type": "execute_result"
        },
        {
          "data": {
            "application/javascript": [
              "\n",
              "            setTimeout(function() {\n",
              "                var nbb_cell_id = 22;\n",
              "                var nbb_unformatted_code = \"grid_obj.best_score_\";\n",
              "                var nbb_formatted_code = \"grid_obj.best_score_\";\n",
              "                var nbb_cells = Jupyter.notebook.get_cells();\n",
              "                for (var i = 0; i < nbb_cells.length; ++i) {\n",
              "                    if (nbb_cells[i].input_prompt_number == nbb_cell_id) {\n",
              "                        if (nbb_cells[i].get_text() == nbb_unformatted_code) {\n",
              "                             nbb_cells[i].set_text(nbb_formatted_code);\n",
              "                        }\n",
              "                        break;\n",
              "                    }\n",
              "                }\n",
              "            }, 500);\n",
              "            "
            ],
            "text/plain": [
              "<IPython.core.display.Javascript object>"
            ]
          },
          "metadata": {},
          "output_type": "display_data"
        }
      ]
    },
    {
      "cell_type": "markdown",
      "metadata": {
        "id": "eCFHwl5xat4P"
      },
      "source": [
        "#### Let's build a model with obtained best parameters"
      ]
    },
    {
      "cell_type": "code",
      "metadata": {
        "id": "V8TWo6tTat4Q",
        "outputId": "d33dcf4c-0d32-4b82-ec89-9a4263d312a6"
      },
      "source": [
        "# Set the clf to the best combination of parameters\n",
        "rf2_tuned = RandomForestClassifier(\n",
        "    class_weight=\"balanced\",\n",
        "    max_features=0.2,\n",
        "    max_samples=0.5,\n",
        "    min_samples_leaf=5,\n",
        "    n_estimators=150,\n",
        "    random_state=1,\n",
        "    max_depth=3,\n",
        "    min_impurity_decrease=0.003,\n",
        ")\n",
        "\n",
        "# Fit the best algorithm to the data.\n",
        "rf2_tuned.fit(X_train, y_train)"
      ],
      "execution_count": null,
      "outputs": [
        {
          "data": {
            "text/plain": [
              "RandomForestClassifier(class_weight='balanced', max_depth=3, max_features=0.2,\n",
              "                       max_samples=0.5, min_impurity_decrease=0.003,\n",
              "                       min_samples_leaf=5, n_estimators=150, random_state=1)"
            ]
          },
          "execution_count": 23,
          "metadata": {},
          "output_type": "execute_result"
        },
        {
          "data": {
            "application/javascript": [
              "\n",
              "            setTimeout(function() {\n",
              "                var nbb_cell_id = 23;\n",
              "                var nbb_unformatted_code = \"# Set the clf to the best combination of parameters\\nrf2_tuned = RandomForestClassifier(\\n    class_weight=\\\"balanced\\\",\\n    max_features=0.2,\\n    max_samples=0.5,\\n    min_samples_leaf=5,\\n    n_estimators=150,\\n    random_state=1,\\n    max_depth=3,\\n    min_impurity_decrease=0.003,\\n)\\n\\n# Fit the best algorithm to the data.\\nrf2_tuned.fit(X_train, y_train)\";\n",
              "                var nbb_formatted_code = \"# Set the clf to the best combination of parameters\\nrf2_tuned = RandomForestClassifier(\\n    class_weight=\\\"balanced\\\",\\n    max_features=0.2,\\n    max_samples=0.5,\\n    min_samples_leaf=5,\\n    n_estimators=150,\\n    random_state=1,\\n    max_depth=3,\\n    min_impurity_decrease=0.003,\\n)\\n\\n# Fit the best algorithm to the data.\\nrf2_tuned.fit(X_train, y_train)\";\n",
              "                var nbb_cells = Jupyter.notebook.get_cells();\n",
              "                for (var i = 0; i < nbb_cells.length; ++i) {\n",
              "                    if (nbb_cells[i].input_prompt_number == nbb_cell_id) {\n",
              "                        if (nbb_cells[i].get_text() == nbb_unformatted_code) {\n",
              "                             nbb_cells[i].set_text(nbb_formatted_code);\n",
              "                        }\n",
              "                        break;\n",
              "                    }\n",
              "                }\n",
              "            }, 500);\n",
              "            "
            ],
            "text/plain": [
              "<IPython.core.display.Javascript object>"
            ]
          },
          "metadata": {},
          "output_type": "display_data"
        }
      ]
    },
    {
      "cell_type": "markdown",
      "metadata": {
        "id": "rZZ8N0M4at4Q"
      },
      "source": [
        "- Different results from the grid and the random search\n",
        "- Randomised search might give better results than grid search for the same parameter grid because of the use of cross-validation as fold varies the scores also vary"
      ]
    },
    {
      "cell_type": "markdown",
      "metadata": {
        "id": "dSEY5KJ-at4Q"
      },
      "source": [
        "#### Let's check the model's performance"
      ]
    },
    {
      "cell_type": "code",
      "metadata": {
        "id": "hgGjmHayat4Q",
        "outputId": "2c276e16-5b6f-4e04-c3d8-16878a0f1670"
      },
      "source": [
        "# Checking recall score on train and validation set\n",
        "print(\"Recall on train and validation set\")\n",
        "print(recall_score(y_train, rf2_tuned.predict(X_train)))\n",
        "print(recall_score(y_val, rf2_tuned.predict(X_val)))\n",
        "print(\"\")\n",
        "print(\"Precision on train and validation set\")\n",
        "# Checking precision score on train and validation set\n",
        "print(precision_score(y_train, rf2_tuned.predict(X_train)))\n",
        "print(precision_score(y_val, rf2_tuned.predict(X_val)))\n",
        "print(\"\")\n",
        "print(\"Accuracy on train and validation set\")\n",
        "# Checking accuracy score on train and validation set\n",
        "print(accuracy_score(y_train, rf2_tuned.predict(X_train)))\n",
        "print(accuracy_score(y_val, rf2_tuned.predict(X_val)))"
      ],
      "execution_count": null,
      "outputs": [
        {
          "name": "stdout",
          "output_type": "stream",
          "text": [
            "Recall on train and validation set\n",
            "0.8985507246376812\n",
            "0.8235294117647058\n",
            "\n",
            "Precision on train and validation set\n",
            "0.7948717948717948\n",
            "0.8235294117647058\n",
            "\n",
            "Accuracy on train and validation set\n",
            "0.9640625\n",
            "0.9625\n"
          ]
        },
        {
          "data": {
            "application/javascript": [
              "\n",
              "            setTimeout(function() {\n",
              "                var nbb_cell_id = 24;\n",
              "                var nbb_unformatted_code = \"# Checking recall score on train and validation set\\nprint(\\\"Recall on train and validation set\\\")\\nprint(recall_score(y_train, rf2_tuned.predict(X_train)))\\nprint(recall_score(y_val, rf2_tuned.predict(X_val)))\\nprint(\\\"\\\")\\nprint(\\\"Precision on train and validation set\\\")\\n# Checking precision score on train and validation set\\nprint(precision_score(y_train, rf2_tuned.predict(X_train)))\\nprint(precision_score(y_val, rf2_tuned.predict(X_val)))\\nprint(\\\"\\\")\\nprint(\\\"Accuracy on train and validation set\\\")\\n# Checking accuracy score on train and validation set\\nprint(accuracy_score(y_train, rf2_tuned.predict(X_train)))\\nprint(accuracy_score(y_val, rf2_tuned.predict(X_val)))\";\n",
              "                var nbb_formatted_code = \"# Checking recall score on train and validation set\\nprint(\\\"Recall on train and validation set\\\")\\nprint(recall_score(y_train, rf2_tuned.predict(X_train)))\\nprint(recall_score(y_val, rf2_tuned.predict(X_val)))\\nprint(\\\"\\\")\\nprint(\\\"Precision on train and validation set\\\")\\n# Checking precision score on train and validation set\\nprint(precision_score(y_train, rf2_tuned.predict(X_train)))\\nprint(precision_score(y_val, rf2_tuned.predict(X_val)))\\nprint(\\\"\\\")\\nprint(\\\"Accuracy on train and validation set\\\")\\n# Checking accuracy score on train and validation set\\nprint(accuracy_score(y_train, rf2_tuned.predict(X_train)))\\nprint(accuracy_score(y_val, rf2_tuned.predict(X_val)))\";\n",
              "                var nbb_cells = Jupyter.notebook.get_cells();\n",
              "                for (var i = 0; i < nbb_cells.length; ++i) {\n",
              "                    if (nbb_cells[i].input_prompt_number == nbb_cell_id) {\n",
              "                        if (nbb_cells[i].get_text() == nbb_unformatted_code) {\n",
              "                             nbb_cells[i].set_text(nbb_formatted_code);\n",
              "                        }\n",
              "                        break;\n",
              "                    }\n",
              "                }\n",
              "            }, 500);\n",
              "            "
            ],
            "text/plain": [
              "<IPython.core.display.Javascript object>"
            ]
          },
          "metadata": {},
          "output_type": "display_data"
        }
      ]
    },
    {
      "cell_type": "markdown",
      "metadata": {
        "id": "ebNJl1ZKat4R"
      },
      "source": [
        "- The model is performing better than model with default parameters and the performance is similar to the model we received with grid search"
      ]
    },
    {
      "cell_type": "markdown",
      "metadata": {
        "id": "sVeUUOVjat4R"
      },
      "source": [
        "#### Choose a best model and predict the performance on the test set"
      ]
    },
    {
      "cell_type": "code",
      "metadata": {
        "id": "XmBsx6I3at4R",
        "outputId": "21dff7fe-483f-4663-cdcc-7a3d0b86dd9f"
      },
      "source": [
        "model = rf1_tuned"
      ],
      "execution_count": null,
      "outputs": [
        {
          "data": {
            "application/javascript": [
              "\n",
              "            setTimeout(function() {\n",
              "                var nbb_cell_id = 25;\n",
              "                var nbb_unformatted_code = \"model = rf1_tuned\";\n",
              "                var nbb_formatted_code = \"model = rf1_tuned\";\n",
              "                var nbb_cells = Jupyter.notebook.get_cells();\n",
              "                for (var i = 0; i < nbb_cells.length; ++i) {\n",
              "                    if (nbb_cells[i].input_prompt_number == nbb_cell_id) {\n",
              "                        if (nbb_cells[i].get_text() == nbb_unformatted_code) {\n",
              "                             nbb_cells[i].set_text(nbb_formatted_code);\n",
              "                        }\n",
              "                        break;\n",
              "                    }\n",
              "                }\n",
              "            }, 500);\n",
              "            "
            ],
            "text/plain": [
              "<IPython.core.display.Javascript object>"
            ]
          },
          "metadata": {},
          "output_type": "display_data"
        }
      ]
    },
    {
      "cell_type": "code",
      "metadata": {
        "id": "wazimV7oat4R",
        "outputId": "5c5606f7-476a-4844-ca55-9079a98b92ab"
      },
      "source": [
        "# Checking recall score on test set\n",
        "print(\"Recall on test set\")\n",
        "print(recall_score(y_test, model.predict(X_test)))\n",
        "print(\"\")\n",
        "\n",
        "# Checking precision score on test set\n",
        "print(\"Precision on test set\")\n",
        "print(precision_score(y_test, model.predict(X_test)))\n",
        "print(\"\")\n",
        "\n",
        "# Checking accuracy score on test set\n",
        "print(\"Accuracy on test set\")\n",
        "print(accuracy_score(y_test, model.predict(X_test)))"
      ],
      "execution_count": null,
      "outputs": [
        {
          "name": "stdout",
          "output_type": "stream",
          "text": [
            "Recall on test set\n",
            "0.8095238095238095\n",
            "\n",
            "Precision on test set\n",
            "0.85\n",
            "\n",
            "Accuracy on test set\n",
            "0.965\n"
          ]
        },
        {
          "data": {
            "application/javascript": [
              "\n",
              "            setTimeout(function() {\n",
              "                var nbb_cell_id = 26;\n",
              "                var nbb_unformatted_code = \"# Checking recall score on test set\\nprint(\\\"Recall on test set\\\")\\nprint(recall_score(y_test, model.predict(X_test)))\\nprint(\\\"\\\")\\n\\n# Checking precision score on test set\\nprint(\\\"Precision on test set\\\")\\nprint(precision_score(y_test, model.predict(X_test)))\\nprint(\\\"\\\")\\n\\n# Checking accuracy score on test set\\nprint(\\\"Accuracy on test set\\\")\\nprint(accuracy_score(y_test, model.predict(X_test)))\";\n",
              "                var nbb_formatted_code = \"# Checking recall score on test set\\nprint(\\\"Recall on test set\\\")\\nprint(recall_score(y_test, model.predict(X_test)))\\nprint(\\\"\\\")\\n\\n# Checking precision score on test set\\nprint(\\\"Precision on test set\\\")\\nprint(precision_score(y_test, model.predict(X_test)))\\nprint(\\\"\\\")\\n\\n# Checking accuracy score on test set\\nprint(\\\"Accuracy on test set\\\")\\nprint(accuracy_score(y_test, model.predict(X_test)))\";\n",
              "                var nbb_cells = Jupyter.notebook.get_cells();\n",
              "                for (var i = 0; i < nbb_cells.length; ++i) {\n",
              "                    if (nbb_cells[i].input_prompt_number == nbb_cell_id) {\n",
              "                        if (nbb_cells[i].get_text() == nbb_unformatted_code) {\n",
              "                             nbb_cells[i].set_text(nbb_formatted_code);\n",
              "                        }\n",
              "                        break;\n",
              "                    }\n",
              "                }\n",
              "            }, 500);\n",
              "            "
            ],
            "text/plain": [
              "<IPython.core.display.Javascript object>"
            ]
          },
          "metadata": {},
          "output_type": "display_data"
        }
      ]
    },
    {
      "cell_type": "markdown",
      "metadata": {
        "id": "UO2wLc07at4R"
      },
      "source": [
        "- The performance is close to one we observed in the validation set, so there is no overfitting"
      ]
    }
  ]
}